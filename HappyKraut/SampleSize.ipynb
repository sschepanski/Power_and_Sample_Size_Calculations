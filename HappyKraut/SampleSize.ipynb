{
 "cells": [
  {
   "cell_type": "markdown",
   "metadata": {},
   "source": [
    "# Table of Content"
   ]
  },
  {
   "cell_type": "markdown",
   "metadata": {},
   "source": [
    "- [Table of Content](#table-of-content)\n",
    "- [0-General](#0-general)\n",
    "  - [0-Introduction](#0-introduction)\n",
    "  - [0-Objective](#0-objective)\n",
    "  - [0-Analysis](#0-analysis)\n",
    "  - [0-Data Dictionary](#0-data-dictionary)\n",
    "  - [0-Acknowledgements](#0-acknowledgements)\n",
    "- [1-Sample Size Calculation](#1--sample-size-calculation)"
   ]
  },
  {
   "cell_type": "markdown",
   "metadata": {},
   "source": [
    "## 0-Acknowledgements\n",
    "[Back to Table of Content](#table-of-content)\n",
    "\n",
    "We extended our gratitude to the entire research group of [Prof. Dr. med. Seifert](https://kinderonkologie.charite.de/forschung/ag_seifert/team/) and all participating kindergartens and participants for their invalubale contributions to this study as well as thanks to the funding agencies. Statistical analysis was conducted by Dr. Steven Schepanski, who also oversaw this notebook."
   ]
  },
  {
   "cell_type": "code",
   "execution_count": null,
   "metadata": {
    "vscode": {
     "languageId": "r"
    }
   },
   "outputs": [],
   "source": [
    "# install packages\n",
    "install.packages(c(\"dplyr\", \"ggplot2\", \"tidyr\", \"readr\", \"purrr\", \"stringr\",\n",
    "                \"lubridate\", \"data.table\", \"plyr\", \"janitor\", \"reshape2\", \"readxl\"))"
   ]
  },
  {
   "cell_type": "code",
   "execution_count": null,
   "metadata": {
    "vscode": {
     "languageId": "r"
    }
   },
   "outputs": [],
   "source": [
    "# load packages\n",
    "library(dplyr)\n",
    "library(ggplot2)\n",
    "library(tidyr)\n",
    "library(readr)\n",
    "library(purrr)\n",
    "library(stringr)\n",
    "library(lubridate)\n",
    "library(data.table)\n",
    "library(plyr)\n",
    "library(janitor)\n",
    "library(reshape2)\n",
    "library(readxl)\n",
    "library(mice)\n",
    "library(gridExtra)\n",
    "library(rlang)"
   ]
  },
  {
   "cell_type": "markdown",
   "metadata": {},
   "source": [
    "# 1- Sample Size Calculation\n",
    "[Back to Table of Content](#table-of-content)"
   ]
  },
  {
   "cell_type": "markdown",
   "metadata": {},
   "source": [
    "SUMMARY!!"
   ]
  },
  {
   "cell_type": "code",
   "execution_count": null,
   "metadata": {
    "vscode": {
     "languageId": "r"
    }
   },
   "outputs": [],
   "source": [
    "library(pwr)"
   ]
  },
  {
   "cell_type": "code",
   "execution_count": null,
   "metadata": {
    "vscode": {
     "languageId": "r"
    }
   },
   "outputs": [],
   "source": [
    "# Reported results from the referenced paper\n",
    "intervention_baseline_mean <- 86.6\n",
    "intervention_baseline_sd <- 52.3\n",
    "intervention_week_12_mean <- 55.8\n",
    "intervention_week_12_sd <- 53.2\n",
    "intervention_sd_change <- 37.1\n",
    "\n",
    "control_baseline_mean <- 79.4\n",
    "control_baseline_sd <- 61.4\n",
    "control_week_12_mean <- 69.4\n",
    "control_week_12_sd <- 67.2\n",
    "control_sd_change <- 41.5\n"
   ]
  },
  {
   "cell_type": "code",
   "execution_count": null,
   "metadata": {
    "vscode": {
     "languageId": "r"
    }
   },
   "outputs": [],
   "source": [
    "# Calculate the pooled standard deviation of change\n",
    "pooled_sd_change <- sqrt(((intervention_sd_change^2) + (control_sd_change^2)) / 2)\n"
   ]
  },
  {
   "cell_type": "code",
   "execution_count": null,
   "metadata": {
    "vscode": {
     "languageId": "r"
    }
   },
   "outputs": [],
   "source": [
    "# Calculate the mean difference in change\n",
    "mean_diff <- intervention_week_12_mean - control_week_12_mean\n"
   ]
  },
  {
   "cell_type": "code",
   "execution_count": null,
   "metadata": {
    "vscode": {
     "languageId": "r"
    }
   },
   "outputs": [],
   "source": [
    "# Assumptions based on the previous study\n",
    "effect_size <- mean_diff / pooled_sd_change\n",
    "alpha <- 0.05         # Significance level\n",
    "power <- 0.80         # Power of the study"
   ]
  },
  {
   "cell_type": "code",
   "execution_count": null,
   "metadata": {
    "vscode": {
     "languageId": "r"
    }
   },
   "outputs": [],
   "source": [
    "# Calculate the sample size for each group\n",
    "sample_size <- pwr.t.test(d = effect_size, sig.level = alpha, power = power, type = \"two.sample\")$n"
   ]
  },
  {
   "cell_type": "code",
   "execution_count": null,
   "metadata": {
    "vscode": {
     "languageId": "r"
    }
   },
   "outputs": [],
   "source": [
    "print(sample_size)"
   ]
  },
  {
   "cell_type": "code",
   "execution_count": null,
   "metadata": {
    "vscode": {
     "languageId": "r"
    }
   },
   "outputs": [],
   "source": [
    "# Adjust for 30% dropout\n",
    "adjusted_sample_size <- sample_size * 1.20"
   ]
  },
  {
   "cell_type": "code",
   "execution_count": null,
   "metadata": {
    "vscode": {
     "languageId": "r"
    }
   },
   "outputs": [],
   "source": [
    "# Round up to nearest whole number\n",
    "total_sample_size <- ceiling(adjusted_sample_size)\n",
    "sample_size_per_group <- ceiling(adjusted_sample_size / 2)"
   ]
  },
  {
   "cell_type": "code",
   "execution_count": null,
   "metadata": {
    "vscode": {
     "languageId": "r"
    }
   },
   "outputs": [],
   "source": [
    "# Output the results\n",
    "cat(\"Total sample size required: \", total_sample_size, \"\\n\")\n",
    "cat(\"Sample size per group: \", sample_size_per_group, \"\\n\")"
   ]
  }
 ],
 "metadata": {
  "kernelspec": {
   "display_name": "R",
   "language": "R",
   "name": "ir"
  },
  "language_info": {
   "codemirror_mode": "r",
   "file_extension": ".r",
   "mimetype": "text/x-r-source",
   "name": "R",
   "pygments_lexer": "r",
   "version": "4.3.2"
  }
 },
 "nbformat": 4,
 "nbformat_minor": 2
}
