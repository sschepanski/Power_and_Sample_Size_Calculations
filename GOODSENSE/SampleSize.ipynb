{
 "cells": [
  {
   "cell_type": "markdown",
   "metadata": {},
   "source": [
    "# Table of Content"
   ]
  },
  {
   "cell_type": "markdown",
   "metadata": {},
   "source": [
    "- [Table of Content](#table-of-content)\n",
    "- [0-General](#0-general)\n",
    "- [1-Sample Size Calculation](#1--sample-size-calculation)\n",
    "- [2-Conclusion](#2-conclusion)"
   ]
  },
  {
   "cell_type": "markdown",
   "metadata": {},
   "source": [
    "# 0-General\n",
    "[Back to Table of Content](#table-of-content)\n",
    "\n",
    "# Sample Size Calculation for GOODSENSE"
   ]
  },
  {
   "cell_type": "markdown",
   "metadata": {},
   "source": [
    "## Introduction\n",
    "[Back to Table of Content](#table-of-content)\n",
    "\n",
    "This sample size calculation determines the minimum numbers of cancer and non-cancer participants required in a paired diagnostic accuracy study comparing CT with canine olfactory testing at a lung cancer center. Both index tests are performed on the same participants; diagnostic truth is established by an independent reference standard: histology positive for cancer, and benign histology or protocolized imaging follow-up (up to 24 months; double read, blinded to dog results) for non-cancer. The dog result must not influence verification decisions.\n",
    "\n",
    "### Primary objectives (co-primary):\n",
    "1. Sensitivity non-inferiority (dogs vs. CT) with a 5 percentage-point margin;\n",
    "2. Specificity superiority (dogs vs. CT).\n",
    "\n",
    "Both hypotheses are tested with one-sided α = 0.025 (alpha-splitting) and 80% power using McNemar’s test on paired binary outcomes within the relevant subgroups (cancer for sensitivity; non-cancer for specificity). The design is case-enriched (we target required numbers within each subgroup rather than relying on prevalence)."
   ]
  },
  {
   "cell_type": "markdown",
   "metadata": {},
   "source": [
    "## Planning assumptions and resulting analytical sample\n",
    "- Discordance (cancer, for sensitivity): dD=0.12 (i.e., 12% of cancer cases yield different dog vs. CT classifications).\n",
    "- Expected sensitivity difference (Dog – CT): 0 (equal sensitivity anticipated).\n",
    "- Non-inferiority margin (sensitivity): 0.05 (dogs may be at most 5 percentage points less sensitive than CT)\n",
    "- Discordance (non-cancer, for specificity): dN=0.15.\n",
    "- Expected specificity difference (Dog – CT): +0.10 (dogs 10 percentage points more specific)."
   ]
  },
  {
   "cell_type": "markdown",
   "metadata": {},
   "source": [
    "# 1- Sample Size Calculation\n",
    "[Back to Table of Content](#table-of-content)"
   ]
  },
  {
   "cell_type": "code",
   "execution_count": 1,
   "metadata": {
    "vscode": {
     "languageId": "r"
    }
   },
   "outputs": [],
   "source": [
    "###############################################################\n",
    "# Sample size planning for a paired diagnostic accuracy study\n",
    "# Comparing Dogs vs. CT using an independent reference standard\n",
    "# (Histology+/− and/or protocolized follow-up for non-cancer)\n",
    "#\n",
    "# Primary endpoints (two one-sided tests):\n",
    "#   1) Sensitivity: Non-inferiority of Dogs vs. CT among cancer cases\n",
    "#   2) Specificity: Superiority of Dogs vs. CT among non-cancer cases\n",
    "#\n",
    "# Method: McNemar test for paired binary outcomes (one-sided)\n",
    "#\n",
    "# Core inputs you must set:\n",
    "#   alpha_one_sided  : one-sided alpha per primary test (e.g., 0.025 if alpha-splitting)\n",
    "#   power            : target power (e.g., 0.80)\n",
    "#   d_D              : discordance among diseased (cancer) cases for Se comparison\n",
    "#   d_N              : discordance among non-diseased (non-cancer) cases for Sp comparison\n",
    "#   DeltaSe_exp      : expected Se difference (Dog - CT) among cancer cases (often ~0)\n",
    "#   NI_margin_Se     : non-inferiority margin for sensitivity (e.g., 0.05 = 5 percentage points)\n",
    "#   DeltaSp_exp      : expected Sp difference (Dog - CT) among non-cancer cases (e.g., +0.10)\n",
    "#\n",
    "# Definitions (paired 2x2 within each subgroup):\n",
    "#   Let b = Dog positive, CT negative   (Dog \"better\" on that person)\n",
    "#   Let c = Dog negative, CT positive   (CT \"better\"  on that person)\n",
    "#   Discordance d = b + c     (as a proportion within the subgroup)\n",
    "#   Expected difference Delta = b - c   (Dog - CT)\n",
    "#\n",
    "# Planning formula (Normal approximation for McNemar, one-sided):\n",
    "#   n ≈ ((z_{1-α} + z_{1-β})^2 * (p01 + p10)) / (((p01 - p10) - margin)^2)\n",
    "# where:\n",
    "#   - For Se non-inferiority: margin = -NI_margin_Se (H0: Delta ≤ -NI_margin_Se)\n",
    "#   - For Sp superiority    : margin = 0            (H0: Delta ≤ 0)\n",
    "#\n",
    "# n denotes the required number of PAIRED subjects in the respective subgroup:\n",
    "#   - n_cancer     : number of cancer cases needed for Se non-inferiority\n",
    "#   - n_noncancer  : number of non-cancer cases needed for Sp superiority\n",
    "# Total planned N in a case-enriched design is n_cancer + n_noncancer.\n",
    "###############################################################\n",
    "\n",
    "# ---------- Helper functions ----------\n",
    "\n",
    "# Normal Z quantile\n",
    "zq <- function(p) qnorm(p)\n",
    "\n",
    "# Derive p01 and p10 from total discordance (d) and expected difference (Delta)\n",
    "# Constraints:\n",
    "#   d = p01 + p10  (must satisfy d ≥ |Delta|)\n",
    "#   Delta = p01 - p10\n",
    "# Hence:\n",
    "#   p01 = (d + Delta)/2\n",
    "#   p10 = (d - Delta)/2\n",
    "p01_p10_from_d_Delta <- function(d, Delta) {\n",
    "  if (d < abs(Delta)) {\n",
    "    stop(\"Invalid combination: discordance d must be >= |Delta|.\")\n",
    "  }\n",
    "  p01 <- (d + Delta) / 2\n",
    "  p10 <- (d - Delta) / 2\n",
    "  if (p01 < 0 || p10 < 0) {\n",
    "    stop(\"Invalid p01/p10 (negative). Check d and Delta.\")\n",
    "  }\n",
    "  c(p01 = p01, p10 = p10)\n",
    "}\n",
    "\n",
    "# Core function: one-sided McNemar sample size\n",
    "# H0: (p01 - p10) <= margin   (we plan n to reject H0 with given power)\n",
    "n_mcnemar_one_sided <- function(p01, p10, alpha_one_sided = 0.025, power = 0.80, margin = 0) {\n",
    "  # Expected \"distance\" from the null boundary:\n",
    "  #   effect = (p01 - p10) - margin\n",
    "  effect <- (p01 - p10) - margin\n",
    "  if (effect <= 0) {\n",
    "    stop(\"Expected difference <= margin. No power under these assumptions.\")\n",
    "  }\n",
    "  # Total discordance:\n",
    "  disc <- p01 + p10\n",
    "  # Z factor for one-sided alpha and power:\n",
    "  zsum_sq <- (zq(1 - alpha_one_sided) + zq(power))^2\n",
    "  # Sample size (rounded up):\n",
    "  n <- (zsum_sq * disc) / (effect^2)\n",
    "  ceiling(n)\n",
    "}\n",
    "\n",
    "# Wrapper: compute n_cancer and n_noncancer using interpretable inputs\n",
    "sample_size_paired <- function(\n",
    "  # global settings\n",
    "  alpha_one_sided = 0.025,\n",
    "  power = 0.80,\n",
    "  # Sensitivity (among cancer): Non-inferiority\n",
    "  d_D,                  # discordance among diseased (cancer) cases\n",
    "  DeltaSe_exp = 0.00,   # expected Se difference (Dog - CT)\n",
    "  NI_margin_Se = 0.05,  # non-inferiority margin (e.g., 0.05 = 5 pct points)\n",
    "  # Specificity (among non-cancer): Superiority\n",
    "  d_N,                  # discordance among non-diseased (non-cancer) cases\n",
    "  DeltaSp_exp = 0.10    # expected Sp difference (Dog - CT)\n",
    ") {\n",
    "  # 1) Sensitivity non-inferiority (cancer subset)\n",
    "  #    H0: (p01 - p10) <= -NI_margin_Se  --> margin = -NI_margin_Se\n",
    "  pars_D <- p01_p10_from_d_Delta(d = d_D, Delta = DeltaSe_exp)\n",
    "  n_cancer <- n_mcnemar_one_sided(\n",
    "    p01 = pars_D[\"p01\"], p10 = pars_D[\"p10\"],\n",
    "    alpha_one_sided = alpha_one_sided, power = power,\n",
    "    margin = -NI_margin_Se\n",
    "  )\n",
    "\n",
    "  # 2) Specificity superiority (non-cancer subset)\n",
    "  #    H0: (p01 - p10) <= 0              --> margin = 0\n",
    "  pars_N <- p01_p10_from_d_Delta(d = d_N, Delta = DeltaSp_exp)\n",
    "  n_noncancer <- n_mcnemar_one_sided(\n",
    "    p01 = pars_N[\"p01\"], p10 = pars_N[\"p10\"],\n",
    "    alpha_one_sided = alpha_one_sided, power = power,\n",
    "    margin = 0\n",
    "  )\n",
    "\n",
    "  # Total (case-enriched): sum of subgroup requirements\n",
    "  N_total <- n_cancer + n_noncancer\n",
    "\n",
    "  list(\n",
    "    inputs = list(\n",
    "      alpha_one_sided = alpha_one_sided,\n",
    "      power = power,\n",
    "      d_D = d_D, DeltaSe_exp = DeltaSe_exp, NI_margin_Se = NI_margin_Se,\n",
    "      d_N = d_N, DeltaSp_exp = DeltaSp_exp\n",
    "    ),\n",
    "    derived = list(\n",
    "      p01_p10_D = pars_D,\n",
    "      p01_p10_N = pars_N\n",
    "    ),\n",
    "    results = list(\n",
    "      n_cancer = n_cancer,\n",
    "      n_noncancer = n_noncancer,\n",
    "      N_total = N_total\n",
    "    )\n",
    "  )\n",
    "}"
   ]
  },
  {
   "cell_type": "code",
   "execution_count": 2,
   "metadata": {
    "vscode": {
     "languageId": "r"
    }
   },
   "outputs": [],
   "source": [
    "# Pretty printer\n",
    "print_ss <- function(ss) {\n",
    "  cat(\"------------------------------------------------------------\\n\")\n",
    "  cat(\"Sample size planning (paired McNemar tests)\\n\")\n",
    "  cat(\"One-sided alpha:\", ss$inputs$alpha_one_sided, \" | Power:\", ss$inputs$power, \"\\n\\n\")\n",
    "\n",
    "  cat(\"Sensitivity (Non-inferiority, among cancer cases):\\n\")\n",
    "  cat(\"  Discordance d_D:\", ss$inputs$d_D, \"\\n\")\n",
    "  cat(\"  Expected ΔSe (Dog - CT):\", ss$inputs$DeltaSe_exp, \"\\n\")\n",
    "  cat(\"  NI margin (Se):\", ss$inputs$NI_margin_Se, \"\\n\")\n",
    "  cat(\"  -> p01_D:\", round(ss$derived$p01_p10_D[\"p01\"], 4),\n",
    "      \" | p10_D:\", round(ss$derived$p01_p10_D[\"p10\"], 4), \"\\n\")\n",
    "  cat(\"  Required cancer cases (n_cancer):\", ss$results$n_cancer, \"\\n\\n\")\n",
    "\n",
    "  cat(\"Specificity (Superiority, among non-cancer cases):\\n\")\n",
    "  cat(\"  Discordance d_N:\", ss$inputs$d_N, \"\\n\")\n",
    "  cat(\"  Expected ΔSp (Dog - CT):\", ss$inputs$DeltaSp_exp, \"\\n\")\n",
    "  cat(\"  -> p01_N:\", round(ss$derived$p01_p10_N[\"p01\"], 4),\n",
    "      \" | p10_N:\", round(ss$derived$p01_p10_N[\"p10\"], 4), \"\\n\")\n",
    "  cat(\"  Required non-cancer cases (n_noncancer):\", ss$results$n_noncancer, \"\\n\\n\")\n",
    "\n",
    "  cat(\"TOTAL (case-enriched): N_total =\", ss$results$N_total, \"\\n\")\n",
    "  cat(\"------------------------------------------------------------\\n\")\n",
    "}"
   ]
  },
  {
   "cell_type": "code",
   "execution_count": 3,
   "metadata": {
    "vscode": {
     "languageId": "r"
    }
   },
   "outputs": [
    {
     "name": "stdout",
     "output_type": "stream",
     "text": [
      "------------------------------------------------------------\n",
      "Sample size planning (paired McNemar tests)\n",
      "One-sided alpha: 0.025  | Power: 0.8 \n",
      "\n",
      "Sensitivity (Non-inferiority, among cancer cases):\n",
      "  Discordance d_D: 0.08 \n",
      "  Expected <U+0394>Se (Dog - CT): 0 \n",
      "  NI margin (Se): 0.05 \n",
      "  -> p01_D: 0.04  | p10_D: 0.04 \n",
      "  Required cancer cases (n_cancer): 252 \n",
      "\n",
      "Specificity (Superiority, among non-cancer cases):\n",
      "  Discordance d_N: 0.15 \n",
      "  Expected <U+0394>Sp (Dog - CT): 0.1 \n",
      "  -> p01_N: 0.125  | p10_N: 0.025 \n",
      "  Required non-cancer cases (n_noncancer): 118 \n",
      "\n",
      "TOTAL (case-enriched): N_total = 370 \n",
      "------------------------------------------------------------\n"
     ]
    }
   ],
   "source": [
    "# ---------- Main script ----------\n",
    "alpha_one_sided <- 0.025  # one-sided per primary test (alpha-splitting)\n",
    "power           <- 0.80\n",
    "\n",
    "d_D          <- 0.08      # discordance among cancer cases (for Se comparison)\n",
    "DeltaSe_exp  <- 0.00      # expected Se difference (Dog - CT)\n",
    "NI_margin_Se <- 0.05      # NI margin (max 5 pct points worse accepted)\n",
    "\n",
    "d_N          <- 0.15      # discordance among non-cancer cases (for Sp comparison)\n",
    "DeltaSp_exp  <- 0.10      # expected Sp difference (Dog - CT)\n",
    "\n",
    "# Compute sample sizes\n",
    "ss <- sample_size_paired(\n",
    "  alpha_one_sided = alpha_one_sided,\n",
    "  power = power,\n",
    "  d_D = d_D, DeltaSe_exp = DeltaSe_exp, NI_margin_Se = NI_margin_Se,\n",
    "  d_N = d_N, DeltaSp_exp = DeltaSp_exp\n",
    ")\n",
    "\n",
    "print_ss(ss)"
   ]
  },
  {
   "cell_type": "markdown",
   "metadata": {},
   "source": [
    "With a one-sided significance level of 0.025 for each primary hypothesis and a target power of 80%, the planned design requires 252 cancer cases to demonstrate that dogs are not more than five percentage points less sensitive than CT, assuming equal true sensitivity and an 8% discordance rate between the two methods. In this cancer subgroup, the discordance is split evenly between cases where the dog is correct and the CT is wrong, and vice versa, reflecting an expectation of similar diagnostic accuracy. For the non-cancer subgroup, where the aim is to show a ten percentage point advantage in specificity for the dogs, a higher discordance rate of 15% is assumed, with most disagreements favoring the dog. Under these assumptions, 118 non-cancer cases are needed. Taken together, the total case-enriched sample size amounts to 370 paired subjects."
   ]
  },
  {
   "cell_type": "code",
   "execution_count": 4,
   "metadata": {
    "vscode": {
     "languageId": "r"
    }
   },
   "outputs": [
    {
     "name": "stdout",
     "output_type": "stream",
     "text": [
      "   d_D  d_N n_cancer n_noncancer N_total\n",
      "1 0.05 0.10      157          79     236\n",
      "4 0.05 0.15      157         118     275\n",
      "7 0.05 0.20      157         157     314\n",
      "2 0.08 0.10      252          79     331\n",
      "5 0.08 0.15      252         118     370\n",
      "8 0.08 0.20      252         157     409\n",
      "3 0.12 0.10      377          79     456\n",
      "6 0.12 0.15      377         118     495\n",
      "9 0.12 0.20      377         157     534\n"
     ]
    }
   ],
   "source": [
    "# ---------- Sensitivity grid over discordance values ----------\n",
    "\n",
    "sensitivity_grid <- function(\n",
    "  dD_vec = c(0.05, 0.08, 0.12),\n",
    "  dN_vec = c(0.10, 0.15, 0.20),\n",
    "  alpha_one_sided = 0.025, power = 0.80,\n",
    "  DeltaSe_exp = 0.00, NI_margin_Se = 0.05,\n",
    "  DeltaSp_exp = 0.10\n",
    ") {\n",
    "  out <- expand.grid(d_D = dD_vec, d_N = dN_vec, KEEP.OUT.ATTRS = FALSE, stringsAsFactors = FALSE)\n",
    "  out$n_cancer <- NA_integer_\n",
    "  out$n_noncancer <- NA_integer_\n",
    "  out$N_total <- NA_integer_\n",
    "  for (i in seq_len(nrow(out))) {\n",
    "    res <- sample_size_paired(\n",
    "      alpha_one_sided = alpha_one_sided, power = power,\n",
    "      d_D = out$d_D[i], DeltaSe_exp = DeltaSe_exp, NI_margin_Se = NI_margin_Se,\n",
    "      d_N = out$d_N[i], DeltaSp_exp = DeltaSp_exp\n",
    "    )$results\n",
    "    out$n_cancer[i] <- res$n_cancer\n",
    "    out$n_noncancer[i] <- res$n_noncancer\n",
    "    out$N_total[i] <- res$N_total\n",
    "  }\n",
    "  out[order(out$d_D, out$d_N), ]\n",
    "}\n",
    "\n",
    "# Example:\n",
    "grid_res <- sensitivity_grid()\n",
    "print(grid_res)"
   ]
  },
  {
   "cell_type": "markdown",
   "metadata": {},
   "source": [
    "The sensitivity analysis illustrates how strongly the required sample size depends on the assumed discordance rates between dogs and CT in each subgroup. Lower discordance rates lead to smaller required sample sizes, while higher rates increase the number of participants needed. The most conservative scenario (line 9), with a discordance of 12% among cancer cases and 20% among non-cancer cases, results in the largest calculated sample size: 377 cancer cases and 157 non-cancer cases, for a total of 534 paired subjects. This scenario assumes that the two tests disagree relatively often, **about one in eight cancer cases and one in five non-cancer cases**, and that these disagreements are split according to the expected differences in accuracy. Under such conditions, the study would require more than one year of recruitment if the lung cancer center screens approximately 500 individuals annually, particularly because not all screened individuals will meet the inclusion criteria or have complete follow-up. In practice, using more moderate discordance rates (such as those in the main analysis with 12% and 15%) would reduce the required total to 495, which is more achievable within a single year."
   ]
  },
  {
   "cell_type": "code",
   "execution_count": 8,
   "metadata": {
    "vscode": {
     "languageId": "r"
    }
   },
   "outputs": [],
   "source": [
    "# ---------- Inflate non-cancer recruitment for follow-up losses ----------\n",
    "\n",
    "# If some non-cancer cases have NO benign histology and require follow-up,\n",
    "# and some of those will not complete follow-up, inflate recruitment accordingly.\n",
    "inflate_for_followup <- function(n_noncancer_needed,\n",
    "                                prop_with_benign_histology,\n",
    "                                followup_complete_rate) {\n",
    "  # prop_without_histology is implied:\n",
    "  prop_without_histology <- 1 - prop_with_benign_histology\n",
    "  # Overall usable rate among recruited non-cancer cases:\n",
    "  usable_rate <- prop_with_benign_histology +\n",
    "                 prop_without_histology * followup_complete_rate\n",
    "  # Required recruits to achieve the analyzable target:\n",
    "  recruits <- ceiling(n_noncancer_needed / usable_rate)\n",
    "  list(usable_rate = usable_rate, recruits = recruits)\n",
    "}\n",
    "\n",
    "# Build a sensitivity grid over input vectors\n",
    "build_followup_grid <- function(n_noncancer_needed,\n",
    "                                benign_histology_vec = seq(0.30, 0.60, by = 0.05),\n",
    "                                followup_complete_vec = seq(0.70, 0.95, by = 0.05)) {\n",
    "  grid <- expand.grid(\n",
    "    prop_benign_histology = benign_histology_vec,\n",
    "    followup_complete     = followup_complete_vec,\n",
    "    KEEP.OUT.ATTRS = FALSE, stringsAsFactors = FALSE\n",
    "  )\n",
    "  grid$usable_rate <- NA_real_\n",
    "  grid$recruits    <- NA_integer_\n",
    "\n",
    "  for (i in seq_len(nrow(grid))) {\n",
    "    res <- inflate_for_followup(\n",
    "      n_noncancer_needed       = n_noncancer_needed,\n",
    "      prop_with_benign_histology = grid$prop_benign_histology[i],\n",
    "      followup_complete_rate     = grid$followup_complete[i]\n",
    "    )\n",
    "    grid$usable_rate[i] <- res$usable_rate\n",
    "    grid$recruits[i]    <- res$recruits\n",
    "  }\n",
    "\n",
    "  # Nice formatting columns (percentages)\n",
    "  grid$benign_histology_pct <- paste0(round(100 * grid$prop_benign_histology), \"%\")\n",
    "  grid$followup_complete_pct <- paste0(round(100 * grid$followup_complete), \"%\")\n",
    "  grid$usable_rate_pct <- paste0(round(100 * grid$usable_rate), \"%\")\n",
    "\n",
    "  # Sort for readability\n",
    "  grid[order(grid$prop_benign_histology, grid$followup_complete), ]\n",
    "}\n"
   ]
  },
  {
   "cell_type": "code",
   "execution_count": 10,
   "metadata": {
    "vscode": {
     "languageId": "r"
    }
   },
   "outputs": [
    {
     "name": "stdout",
     "output_type": "stream",
     "text": [
      " benign_histology_pct followup_complete_pct usable_rate_pct recruits\n",
      "                  30%                   60%             72%      164\n",
      "                  30%                   70%             79%      150\n",
      "                  30%                   80%             86%      138\n",
      "                  30%                   90%             93%      127\n",
      "                  40%                   60%             76%      156\n",
      "                  40%                   70%             82%      144\n",
      "                  40%                   80%             88%      135\n",
      "                  40%                   90%             94%      126\n",
      "                  50%                   60%             80%      148\n",
      "                  50%                   70%             85%      139\n",
      "                  50%                   80%             90%      132\n",
      "                  50%                   90%             95%      125\n",
      "                  60%                   60%             84%      141\n",
      "                  60%                   70%             88%      135\n",
      "                  60%                   80%             92%      129\n",
      "                  60%                   90%             96%      123\n"
     ]
    }
   ],
   "source": [
    "# Use analyzable non-cancer requirement from the main SS result:\n",
    "n_needed_noncancer <- ss$results$n_noncancer   # e.g., 118 from your main run\n",
    "\n",
    "grid_res <- build_followup_grid(\n",
    "  n_noncancer_needed   = n_needed_noncancer,\n",
    "  benign_histology_vec = c(0.30, 0.40, 0.50, 0.60),  # adjust as desired\n",
    "  followup_complete_vec = c(0.60, 0.70, 0.80, 0.90)  # adjust as desired\n",
    ")\n",
    "\n",
    "# View a compact table\n",
    "print(grid_res[, c(\"benign_histology_pct\", \"followup_complete_pct\",\n",
    "                   \"usable_rate_pct\", \"recruits\")],\n",
    "      row.names = FALSE)\n"
   ]
  },
  {
   "cell_type": "markdown",
   "metadata": {},
   "source": [
    "This grid shows, for a fixed analytical target of 118 usable non-cancer cases, how many non-cancer participants you must recruit under different assumptions about how “non-cancer” is confirmed. Two factors drive the usable fraction: the share with benign histology (immediately usable) and the follow-up completion rate among those without histology. Across scenarios, the usable rate ranges from 72% to 96%, translating into recruitment needs between 164 and 123 non-cancer participants, respectively.\n",
    "\n",
    "A realistic base case in a lung cancer center is to assume that about half of non-cancer determinations come from benign histology and half from protocolized follow-up, with ~80% of the follow-up arm completing verification. That corresponds to the 50% / 80% cell: a 90% usable rate and 132 non-cancer recruits to achieve 118 analyzable."
   ]
  },
  {
   "cell_type": "markdown",
   "metadata": {},
   "source": [
    "# 2-Conclusion\n",
    "[Back to Table of Content](#table-of-content)\n",
    "\n",
    "Under your primary planning assumptions (one-sided α=0.025, power=0.80, sensitivity non-inferiority margin=5 % points, expected \n",
    "ΔSe=0, expected ΔSp=+10 points), the analytical (i.e., paired, usable) sample size is:\n",
    "- Cancer (for sensitivity NI): n cancer = 377\n",
    "- Non-cancer (for specificity superiority): n non-cancer = 118\n",
    "- Analytical total: N = 495\n",
    "\n",
    "Because a proportion of non-cancer determinations will rely on follow-up (and not all of those will complete), we inflate non-cancer recruitment using a neutral, defensible base case of 50% benign histology and 80% follow-up completion among those without histology:\n",
    "\n",
    "usable rate=0.50+0.50×0.80=0.90 ==> recruit [118/0.90] = 132 non-cancer participants.\n",
    "\n",
    "Cancer cases use histology and do not need this verification inflation, so recruitment there targets the analytical need of 377.\n",
    "\n",
    "Putting this together before any general failures results to 509 participants. Finally, apply a realistic technical/procedural failure buffer (e.g. unusable specimen, protocol deviations) via a pragmatic +10%, the total sample size is 560."
   ]
  }
 ],
 "metadata": {
  "kernelspec": {
   "display_name": "R",
   "language": "R",
   "name": "ir"
  },
  "language_info": {
   "codemirror_mode": "r",
   "file_extension": ".r",
   "mimetype": "text/x-r-source",
   "name": "R",
   "pygments_lexer": "r",
   "version": "4.3.2"
  }
 },
 "nbformat": 4,
 "nbformat_minor": 2
}
