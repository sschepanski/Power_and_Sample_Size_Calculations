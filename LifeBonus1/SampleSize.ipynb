{
 "cells": [
  {
   "cell_type": "markdown",
   "metadata": {},
   "source": [
    "# Power Analysis for Sample Size Calculation\n",
    "\n",
    "## Objective\n",
    "The following R code calculates the sample size required for conducting a Wilcoxon paired rank sum test based on specified parameters. The Wilcoxon test will be used to assess the significance of differences between paired observations obtained at baseline and after 20 weeks of treatment. The primary outcome measure is the degree of goal attainment of participants using the Goal Attainment Scale (GAS).\n",
    "\n",
    "## Primary Outcome\n",
    "The primary endpoint of interest is the degree of goal attainment of participants, assessed using the Goal Attainment Scale (GAS) after 20 weeks of treatment.\n",
    "\n",
    "## Package Information\n",
    "- The power analysis is conducted using the `pwr` package in R.\n",
    "- The `pwr` package provides functions for power analysis in various statistical tests, including non-parametric tests like the Wilcoxon test.\n",
    "\n",
    "## Literature\n",
    "- Cohen, J. (1988). *Statistical Power Analysis for the Behavioral Sciences* (2nd ed.). Lawrence Erlbaum Associates.\n",
    "- Navarro, D. J. (2015). *Learning statistics with R: A tutorial for psychology students and other beginners* (Version 0.5). Adelaide, Australia: University of Adelaide.\n",
    "- R Core Team (2022). *R: A language and environment for statistical computing*. R Foundation for Statistical Computing, Vienna, Austria. [https://www.R-project.org/](https://www.R-project.org/)\n",
    "- McCue, M., Sarkey, S., Eramo, A. et al. (2021). Using the Goal Attainment Scale adapted for depression to better understand treatment outcomes in patients with major depressive disorder switching to vortioxetine: a phase 4, single-arm, open-label, multicenter study. *BMC Psychiatry, 21*(1), 622. [https://doi.org/10.1186/s12888-021-03608-1](https://doi.org/10.1186/s12888-021-03608-1)\n",
    "\n"
   ]
  },
  {
   "cell_type": "code",
   "execution_count": 4,
   "metadata": {
    "vscode": {
     "languageId": "r"
    }
   },
   "outputs": [
    {
     "name": "stdout",
     "output_type": "stream",
     "text": [
      "\n",
      "The downloaded binary packages are in\n",
      "\t/var/folders/1j/rn9q783j7sjdszqsfc6_89sw0000gn/T//RtmpKDHMTu/downloaded_packages\n"
     ]
    },
    {
     "name": "stderr",
     "output_type": "stream",
     "text": [
      "\n",
      "Attaching package: 'pwrss'\n",
      "\n",
      "\n",
      "The following object is masked from 'package:stats':\n",
      "\n",
      "    power.t.test\n",
      "\n",
      "\n"
     ]
    }
   ],
   "source": [
    "install.packages(\"pwrss\")\n",
    "library(pwrss)"
   ]
  },
  {
   "cell_type": "code",
   "execution_count": 20,
   "metadata": {
    "vscode": {
     "languageId": "r"
    }
   },
   "outputs": [],
   "source": [
    "# Set the parameters\n",
    "p <- 0.50     # Proportion of individuals expected to have T-score >= 50\n",
    "p0 <- 0.50    # Proportion under the null hypothesis\n",
    "margin <- 0.10  # Difference between p and p0 considered meaningful, e.g., 10%\n",
    "alpha <- 0.05 # Significance level\n",
    "power <- 0.90 # Desired statistical power\n",
    "alternative <- \"superior\" # Testing for superiority\n"
   ]
  },
  {
   "cell_type": "code",
   "execution_count": 21,
   "metadata": {
    "vscode": {
     "languageId": "r"
    }
   },
   "outputs": [
    {
     "name": "stdout",
     "output_type": "stream",
     "text": [
      " Approach: Normal Approximation \n",
      " A Proportion against a Constant (z Test) \n",
      " H0: p - p0 <= margin \n",
      " HA: p - p0 > margin \n",
      " ------------------------------ \n",
      "  Statistical power = 0.9 \n",
      "  n = 215 \n",
      " ------------------------------ \n",
      " Alternative = \"superior\" \n",
      " Non-centrality parameter = -2.926 \n",
      " Type I error rate = 0.05 \n",
      " Type II error rate = 0.1 \n",
      "$call\n",
      "function (name, ...)  .Primitive(\"call\")\n",
      "\n",
      "$parms\n",
      "$parms$p\n",
      "[1] 0.5\n",
      "\n",
      "$parms$p0\n",
      "[1] 0.5\n",
      "\n",
      "$parms$arcsin.trans\n",
      "[1] FALSE\n",
      "\n",
      "$parms$alpha\n",
      "[1] 0.05\n",
      "\n",
      "$parms$margin\n",
      "[1] 0.1\n",
      "\n",
      "$parms$alternative\n",
      "[1] \"superior\"\n",
      "\n",
      "$parms$verbose\n",
      "[1] TRUE\n",
      "\n",
      "\n",
      "$test\n",
      "[1] \"z\"\n",
      "\n",
      "$ncp\n",
      "[1] -2.926405\n",
      "\n",
      "$power\n",
      "[1] 0.9\n",
      "\n",
      "$n\n",
      "[1] 214.0962\n",
      "\n",
      "attr(,\"class\")\n",
      "[1] \"pwrss\" \"z\"     \"prop\" \n"
     ]
    }
   ],
   "source": [
    "# Perform the superiority test\n",
    "result <- pwrss.z.prop(p = p, p0 = p0, margin = margin,\n",
    "                       alpha = alpha, power = power,\n",
    "                       alternative = alternative)\n",
    "\n",
    "# Print the results\n",
    "print(result)"
   ]
  },
  {
   "cell_type": "markdown",
   "metadata": {},
   "source": [
    "To theoretically justify a margin of 0.075 in your study, you would need to consider several factors related to the context of your research, the intervention being studied, and the expected effect size. Here are some steps you can take to justify this margin:\n",
    "\n",
    "Clinical Relevance: Determine what constitutes a meaningful difference in the context of your study. This could be based on clinical guidelines, expert opinions, or prior research. For example, you might consult clinical experts to understand what level of improvement in the proportion of individuals achieving a T-score of 50 or higher would be considered clinically significant.\n",
    "\n",
    "\n",
    "Minimally Important Difference (MID): Identify the minimally important difference (MID) or smallest effect size that would be clinically meaningful. This could be based on patient-reported outcomes, changes in symptom severity, or other relevant measures. The margin of 0.075 should reflect this MID.\n",
    "\n",
    "\n",
    "Statistical Considerations: Consider the statistical power of your study and the trade-off between Type I and Type II errors. A margin of 0.075 should be chosen to ensure that your study has adequate power to detect the expected effect size while controlling the risk of a false positive (Type I error).\n",
    "\n",
    "\n",
    "Practical Constraints: Take into account practical constraints such as sample size limitations, cost considerations, and feasibility of the intervention. A margin of 0.075 should be feasible to detect within the constraints of your study design and resources available.\n",
    "\n",
    "\n",
    "Literature Review: Review existing literature on similar interventions or outcomes to see if there are any established thresholds or benchmarks for effect sizes in comparable studies. This can help contextualize your choice of margin and provide additional justification."
   ]
  },
  {
   "cell_type": "markdown",
   "metadata": {},
   "source": [
    "FOR STEVEN:\n",
    "\n",
    "Superiority Tests would be appropriate if you want to demonstrate that the intervention improves outcomes significantly compared to the baseline. In this case, you'd be interested in showing that the proportion of individuals with a T-score of 50 or higher after the intervention is significantly greater than a specified threshold (e.g., 50%).\n",
    "\n",
    "Hypotheses:\n",
    "\n",
    "Null hypothesis (Superiority Test): The proportion of individuals with T-scores of 50 or higher after the intervention is less than or equal to 50%.\n",
    "\n",
    "Alternative hypothesis (Superiority Test): The proportion of individuals with T-scores of 50 or higher after the intervention is greater than 50%.\n",
    "\n",
    "7.5% would mean a meaningful difference between GAS values before and after the intervention.\n",
    "\n"
   ]
  },
  {
   "cell_type": "markdown",
   "metadata": {},
   "source": [
    "FOR STEVEN:\n",
    "\n",
    "Increasing the power from the usual 0.8 to 0.9 can be justified for several reasons:\n",
    "\n",
    "Reducing Type II error: A higher power reduces the risk of failing to detect a true effect (Type II error), which can be particularly important when the consequences of missing an effect are significant.\n",
    "\n",
    "Increased sensitivity: A higher power makes your study more sensitive to detect small or subtle effects, which might be important for your research question."
   ]
  },
  {
   "cell_type": "code",
   "execution_count": 1,
   "metadata": {
    "vscode": {
     "languageId": "r"
    }
   },
   "outputs": [],
   "source": [
    "# export the results to an HTML file\n",
    "system(\"jupyter nbconvert --to html --execute your_notebook.ipynb\")"
   ]
  }
 ],
 "metadata": {
  "kernelspec": {
   "display_name": "R",
   "language": "R",
   "name": "ir"
  },
  "language_info": {
   "codemirror_mode": "r",
   "file_extension": ".r",
   "mimetype": "text/x-r-source",
   "name": "R",
   "pygments_lexer": "r",
   "version": "4.3.2"
  }
 },
 "nbformat": 4,
 "nbformat_minor": 2
}
