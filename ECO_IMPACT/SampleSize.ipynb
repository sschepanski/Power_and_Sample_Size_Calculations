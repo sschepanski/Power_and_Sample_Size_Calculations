{
 "cells": [
  {
   "cell_type": "markdown",
   "metadata": {},
   "source": [
    "# Table of Content"
   ]
  },
  {
   "cell_type": "markdown",
   "metadata": {},
   "source": [
    "- [Table of Content](#table-of-content)\n",
    "- [0-General](#0-general)\n",
    "  - [0-Introduction](#0-introduction)\n",
    "  - [0-Objective](#0-objective)\n",
    "  - [0-Analysis](#0-analysis)\n",
    "  - [0-Data Dictionary](#0-data-dictionary)\n",
    "  - [0-Acknowledgements](#0-acknowledgements)\n",
    "- [1-Sample Size Calculation](#1--sample-size-calculation)"
   ]
  },
  {
   "cell_type": "markdown",
   "metadata": {},
   "source": [
    "## 0-Acknowledgements\n",
    "[Back to Table of Content](#table-of-content)\n",
    "\n",
    "We extended our gratitude to the entire research group of [Prof. Dr. med. Seifert](https://kinderonkologie.charite.de/forschung/ag_seifert/team/) and all participating kindergartens and participants for their invalubale contributions to this study as well as thanks to the funding agencies. Statistical analysis was conducted by Dr. Steven Schepanski, who also oversaw this notebook."
   ]
  },
  {
   "cell_type": "code",
   "execution_count": null,
   "metadata": {
    "vscode": {
     "languageId": "r"
    }
   },
   "outputs": [],
   "source": [
    "# install packages\n",
    "install.packages(c(\"dplyr\", \"ggplot2\", \"tidyr\", \"readr\", \"purrr\", \"stringr\",\n",
    "                \"lubridate\", \"data.table\", \"plyr\", \"janitor\", \"reshape2\", \"readxl\"))"
   ]
  },
  {
   "cell_type": "code",
   "execution_count": null,
   "metadata": {
    "vscode": {
     "languageId": "r"
    }
   },
   "outputs": [],
   "source": [
    "# load packages\n",
    "library(dplyr)\n",
    "library(ggplot2)\n",
    "library(tidyr)\n",
    "library(readr)\n",
    "library(purrr)\n",
    "library(stringr)\n",
    "library(lubridate)\n",
    "library(data.table)\n",
    "library(plyr)\n",
    "library(janitor)\n",
    "library(reshape2)\n",
    "library(readxl)\n",
    "library(mice)\n",
    "library(gridExtra)\n",
    "library(rlang)"
   ]
  },
  {
   "cell_type": "markdown",
   "metadata": {},
   "source": [
    "# 1- Sample Size Calculation\n",
    "[Back to Table of Content](#table-of-content)"
   ]
  },
  {
   "cell_type": "markdown",
   "metadata": {},
   "source": [
    "SUMMARY!!"
   ]
  },
  {
   "cell_type": "code",
   "execution_count": null,
   "metadata": {
    "vscode": {
     "languageId": "r"
    }
   },
   "outputs": [],
   "source": [
    "library(pwr)"
   ]
  },
  {
   "cell_type": "code",
   "execution_count": null,
   "metadata": {
    "vscode": {
     "languageId": "r"
    }
   },
   "outputs": [],
   "source": [
    "# Reported results from the referenced paper\n",
    "intervention_baseline_mean <- 86.6\n",
    "intervention_baseline_sd <- 52.3\n",
    "intervention_week_12_mean <- 55.8\n",
    "intervention_week_12_sd <- 53.2\n",
    "intervention_sd_change <- 37.1\n",
    "\n",
    "control_baseline_mean <- 79.4\n",
    "control_baseline_sd <- 61.4\n",
    "control_week_12_mean <- 69.4\n",
    "control_week_12_sd <- 67.2\n",
    "control_sd_change <- 41.5\n"
   ]
  },
  {
   "cell_type": "code",
   "execution_count": null,
   "metadata": {
    "vscode": {
     "languageId": "r"
    }
   },
   "outputs": [],
   "source": [
    "# Calculate the pooled standard deviation of change\n",
    "pooled_sd_change <- sqrt(((intervention_sd_change^2) + (control_sd_change^2)) / 2)\n"
   ]
  },
  {
   "cell_type": "code",
   "execution_count": null,
   "metadata": {
    "vscode": {
     "languageId": "r"
    }
   },
   "outputs": [],
   "source": [
    "# Calculate the mean difference in change\n",
    "mean_diff <- intervention_week_12_mean - control_week_12_mean\n"
   ]
  },
  {
   "cell_type": "code",
   "execution_count": null,
   "metadata": {
    "vscode": {
     "languageId": "r"
    }
   },
   "outputs": [],
   "source": [
    "# Assumptions based on the previous study\n",
    "effect_size <- mean_diff / pooled_sd_change\n",
    "alpha <- 0.05         # Significance level\n",
    "power <- 0.80         # Power of the study"
   ]
  },
  {
   "cell_type": "code",
   "execution_count": null,
   "metadata": {
    "vscode": {
     "languageId": "r"
    }
   },
   "outputs": [],
   "source": [
    "# Calculate the sample size for each group\n",
    "sample_size <- pwr.t.test(d = effect_size, sig.level = alpha, power = power, type = \"two.sample\")$n"
   ]
  },
  {
   "cell_type": "code",
   "execution_count": null,
   "metadata": {
    "vscode": {
     "languageId": "r"
    }
   },
   "outputs": [],
   "source": [
    "print(sample_size)"
   ]
  },
  {
   "cell_type": "code",
   "execution_count": null,
   "metadata": {
    "vscode": {
     "languageId": "r"
    }
   },
   "outputs": [],
   "source": [
    "# Adjust for 30% dropout\n",
    "adjusted_sample_size <- sample_size * 1.20"
   ]
  },
  {
   "cell_type": "code",
   "execution_count": null,
   "metadata": {
    "vscode": {
     "languageId": "r"
    }
   },
   "outputs": [],
   "source": [
    "# Round up to nearest whole number\n",
    "total_sample_size <- ceiling(adjusted_sample_size)\n",
    "sample_size_per_group <- ceiling(adjusted_sample_size / 2)"
   ]
  },
  {
   "cell_type": "code",
   "execution_count": null,
   "metadata": {
    "vscode": {
     "languageId": "r"
    }
   },
   "outputs": [],
   "source": [
    "# Output the results\n",
    "cat(\"Total sample size required: \", total_sample_size, \"\\n\")\n",
    "cat(\"Sample size per group: \", sample_size_per_group, \"\\n\")"
   ]
  },
  {
   "cell_type": "code",
   "execution_count": null,
   "metadata": {
    "vscode": {
     "languageId": "r"
    }
   },
   "outputs": [],
   "source": []
  },
  {
   "cell_type": "code",
   "execution_count": null,
   "metadata": {
    "vscode": {
     "languageId": "r"
    }
   },
   "outputs": [],
   "source": []
  },
  {
   "cell_type": "code",
   "execution_count": null,
   "metadata": {
    "vscode": {
     "languageId": "r"
    }
   },
   "outputs": [],
   "source": []
  },
  {
   "cell_type": "code",
   "execution_count": 51,
   "metadata": {
    "vscode": {
     "languageId": "r"
    }
   },
   "outputs": [
    {
     "name": "stdout",
     "output_type": "stream",
     "text": [
      "Standard Error (SE): 0.2040816 \n",
      "Pooled Standard Deviation (SD_pool): 1.121401 \n",
      "Cohen's d: 0.6420539 \n",
      "  R2_Total Required_Sample_Size_per_Group Adjusted_Sample_Size_per_Group\n",
      "1     0.10                             29                             42\n",
      "2     0.15                             28                             40\n",
      "3     0.20                             26                             38\n",
      "4     0.25                             25                             35\n",
      "5     0.30                             23                             33\n",
      "6     0.35                             22                             31\n",
      "7     0.40                             20                             29\n",
      "8     0.45                             19                             27\n",
      "9     0.50                             17                             25\n"
     ]
    }
   ],
   "source": [
    "# Install required package\n",
    "if (!requireNamespace(\"pwr\")) install.packages(\"pwr\")\n",
    "library(pwr)\n",
    "\n",
    "# Input data from the study\n",
    "delta <- -0.72  # Mean difference (e.g., between groups)\n",
    "ci_upper <- -0.32  # Upper limit of the confidence interval\n",
    "ci_lower <- -1.12  # Lower limit of the confidence interval\n",
    "n_omnivore <- 72  # Sample size for the omnivore group\n",
    "n_vegan <- 52  # Sample size for the vegan group\n",
    "z_value <- 1.96  # Z-value for 95% confidence level\n",
    "\n",
    "# Step 1: Calculate Standard Error (SE)\n",
    "se <- (ci_upper - ci_lower) / (2 * z_value)\n",
    "cat(\"Standard Error (SE):\", se, \"\\n\")\n",
    "\n",
    "# Step 2: Calculate Pooled Standard Deviation (SD_pool)\n",
    "sd_pool <- se / sqrt((1 / n_omnivore) + (1 / n_vegan))\n",
    "cat(\"Pooled Standard Deviation (SD_pool):\", sd_pool, \"\\n\")\n",
    "\n",
    "# Step 3: Calculate Cohen's d\n",
    "cohens_d <- abs(delta) / sd_pool\n",
    "cat(\"Cohen's d:\", cohens_d, \"\\n\")\n",
    "\n",
    "# Parameters for sample size calculation\n",
    "alpha <- 0.05  # Significance level\n",
    "power <- 0.80  # Desired power\n",
    "\n",
    "# Simulated R^2 values (total variance explained by baseline + sex + SES)\n",
    "R2_total_values <- seq(0.1, 0.5, by = 0.05)  # Total R^2 (baseline + covariates)\n",
    "\n",
    "# Number of predictors in the model\n",
    "u <- 5  # Group effect + 4 additional covariates (sex, SES, maternal BMI, parental education)\n",
    "\n",
    "# Function to calculate sample size with additional covariates\n",
    "calculate_sample_size_covariates <- function(R2_total, d, alpha, power, u) {\n",
    "  f2 <- d^2 / (1 - R2_total)  # Adjusted effect size for ANCOVA\n",
    "  pwr.f2.test(u = u, v = NULL, f2 = f2, sig.level = alpha, power = power)$v + 1\n",
    "}\n",
    "\n",
    "# Calculate sample sizes for varying total R^2\n",
    "sample_sizes_covariates <- sapply(R2_total_values, calculate_sample_size_covariates, \n",
    "                                  d = abs(cohens_d), alpha = alpha, power = power, u = u)\n",
    "\n",
    "# Adjust for 30% dropout\n",
    "dropout_rate <- 0.30\n",
    "adjusted_sample_sizes <- ceiling(sample_sizes_covariates / (1 - dropout_rate))\n",
    "\n",
    "# Create a data frame with results\n",
    "results_covariates <- data.frame(\n",
    "  R2_Total = R2_total_values,\n",
    "  Required_Sample_Size_per_Group = ceiling(sample_sizes_covariates),\n",
    "  Adjusted_Sample_Size_per_Group = adjusted_sample_sizes\n",
    ")\n",
    "\n",
    "# Print the updated results\n",
    "print(results_covariates)"
   ]
  },
  {
   "cell_type": "markdown",
   "metadata": {},
   "source": [
    "# Interpretation of the Results\n",
    "\n",
    "The calculations show that for \\( R^2 = 0.10 \\), which assumes the covariates (baseline, biological sex, socioeconomic status, maternal BMI, and parental education) together explain only 10% of the variability in the outcome, the required sample size per group is 29 participants. Accounting for a 30% dropout rate, this increases to 42 participants per group, for a total of 84 participants. This conservative assumption minimizes the expected explanatory power of the covariates, ensuring the study is robust even if their actual impact is weaker than anticipated.\n",
    "\n",
    "In practical terms, the study will need to recruit a total of 84 participants to maintain sufficient power (80%) to detect the observed moderate effect size (\\( d = 0.642 \\)) at a 5% significance level, even in the presence of attrition. By considering potential dropout, the design reduces the risk of underpowering the study due to participant loss, ensuring the results remain reliable and interpretable.\n",
    "\n",
    "## Practical Implications for the Study\n",
    "\n",
    "Recruitment efforts and resources should focus on achieving the adjusted target of 42 participants per group. Dropout mitigation strategies, such as regular follow-ups, minimizing participant burden, and offering appropriate incentives, will be essential to keep dropout within the planned margin of 30%. Including covariates like biological sex, SES, maternal BMI, and parental education enhances the precision of the study by reducing unexplained variability, allowing for a smaller sample size than would otherwise be required. \n",
    "\n",
    "The observed effect size (\\( d = 0.642 \\)) is moderate, suggesting a meaningful difference between the two groups. The inclusion of covariates ensures the sample size calculation accounts for their potential impact while remaining cautious in estimating their explanatory power.\n",
    "\n",
    "## Justification for Choosing \\( R^2 = 0.10 \\)\n",
    "\n",
    "Taking \\( R^2 = 0.10 \\) is a conservative approach that ensures the study design is robust. This value reflects a minimal assumption about the explanatory power of the covariates, avoiding overconfidence in their contribution. By doing so, the study avoids the risk of underpowering due to an overestimated \\( R^2 \\). If the actual \\( R^2 \\) is higher (e.g., 0.3 or 0.5), the planned sample size will remain sufficient. This conservative assumption is particularly important when planning for covariates whose actual impact is uncertain, ensuring the reliability of the study's findings.\n",
    "\n",
    "## Conclusion\n",
    "\n",
    "Under the conservative assumption of \\( R^2 = 0.10 \\), the study requires 42 participants per group (84 total), including a 30% allowance for dropout. This approach ensures that the study remains adequately powered to detect the observed effect size while accounting for attrition and variability in covariate effects. This robust and realistic design balances statistical rigor with practical feasibility, ensuring reliable results that are generalizable and interpretable.\n"
   ]
  }
 ],
 "metadata": {
  "kernelspec": {
   "display_name": "R",
   "language": "R",
   "name": "ir"
  },
  "language_info": {
   "codemirror_mode": "r",
   "file_extension": ".r",
   "mimetype": "text/x-r-source",
   "name": "R",
   "pygments_lexer": "r",
   "version": "4.3.2"
  }
 },
 "nbformat": 4,
 "nbformat_minor": 2
}
