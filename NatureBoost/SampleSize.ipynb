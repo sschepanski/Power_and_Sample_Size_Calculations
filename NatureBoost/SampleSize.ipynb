{
 "cells": [
  {
   "cell_type": "markdown",
   "metadata": {},
   "source": [
    "# Table of Content"
   ]
  },
  {
   "cell_type": "markdown",
   "metadata": {},
   "source": [
    "- [Table of Content](#table-of-content)\n",
    "- [0-General](#0-general)\n",
    "  - [Introduction](#introduction)\n",
    "  - [Study Objectives](#study-objectives)\n",
    "  - [Study Significance](#study-significance)\n",
    "  - [Methods - Study Design](#methods---study-design)\n",
    "  - [Methods - Outcome Measures](#methods---outcome-measures)\n",
    "  - [Sample Size Calculation Rationale](#sample-size-calculation-rationale)\n",
    "  - [Simulation-Based Sample Size Calculation for ANCOVA](#simulation-based-sample-size-calculation-for-ancova)\n",
    "- [1-Sample Size Calculation](#1--sample-size-calculation)\n",
    "- [2-Conclusion](#2-conclusion)"
   ]
  },
  {
   "cell_type": "markdown",
   "metadata": {},
   "source": [
    "# 0-General\n",
    "[Back to Table of Content](#table-of-content)\n",
    "# Sample Size Calculation for the Nature-Boost Randomized Controlled Trial"
   ]
  },
  {
   "cell_type": "markdown",
   "metadata": {},
   "source": [
    "## Introduction\n",
    "[Back to Table of Content](#table-of-content)\n",
    "\n",
    "The Nature-Boost project aims to address the rising challenges in long-term care facilities by enhancing the health and relationship between caregivers and residents through innovative, nature-based interventions. The project recognizes the dual burdens on both residents and staff due to increased demand for long-term care services and chronic workforce shortages in caregiving roles. In particular, residents often experience reduced mobility, social isolation, and sensory deprivation, which can impact sleep quality, mood, and overall well-being. Caregivers also face high levels of stress and burnout, contributing to a challenging work environment.\n",
    "\n",
    "To counter these challenges, the Nature-Boost project proposes immersive, multi-sensory interventions replicating nature experiences. These include:\n",
    "1. **Olfactory stimuli**: Essential oil blends simulating the scent of the Bavarian forest.\n",
    "2. **Visual stimuli**: VR simulations showing forest scenes.\n",
    "3. **Auditory stimuli**: Natural sounds, such as forest ambiance.\n"
   ]
  },
  {
   "cell_type": "markdown",
   "metadata": {},
   "source": [
    "## Study Objectives\n",
    "[Back to Table of Content](#table-of-content)\n",
    "\n",
    "The Nature-Boost study aims to test the health-promoting effects of virtual and sensory nature experiences for both residents and caregiving staff in long-term care settings. Specifically, it examines:\n",
    "1. **Primary Objective**: Assess whether immersive nature-based experiences improve residents' sleep quality.\n",
    "2. **Secondary Objectives**: Evaluate improvements in residents' overall well-being, mood, loneliness, cognitive function, and emotional exhaustion. Additionally, assess changes in caregivers' perceived stress and burnout.\n"
   ]
  },
  {
   "cell_type": "markdown",
   "metadata": {},
   "source": [
    "## Study Significance\n",
    "[Back to Table of Content](#table-of-content)\n",
    "\n",
    "The anticipated outcomes of Nature-Boost align with an urgent need for effective mental and physical health interventions in long-term care. By exploring whether digitally simulated nature experiences can improve sleep and reduce stress for those unable to access outdoor environments directly, the study could pave the way for scalable, accessible solutions for both residents and caregivers.\n"
   ]
  },
  {
   "cell_type": "markdown",
   "metadata": {},
   "source": [
    "## Methods - Study Design\n",
    "[Back to Table of Content](#table-of-content)\n",
    "\n",
    "This study will use a randomized controlled trial (RCT) design with four intervention groups:\n",
    "- **Experimental Group 1**: Participants receive an immersive sensory experience before sleep, combining forest-scented essential oils, VR forest images, and natural forest sounds.\n",
    "- **Experimental Group 2**: Participants experience VR images and natural sounds of the forest, without scent stimuli.\n",
    "- **Experimental Group 3**: Participants are exposed to forest-scented essential oils alone.\n",
    "- **Control Group**: Participants receive a neutral intervention, such as a non-nature-related video, without accompanying scents or sounds."
   ]
  },
  {
   "cell_type": "markdown",
   "metadata": {},
   "source": [
    "## Methods - Outcome Measures\n",
    "[Back to Table of Content](#table-of-content)\n",
    "\n",
    "- **Primary Outcome**: Sleep quality, assessed using the Pittsburgh Sleep Quality Index (PSQI).\n",
    "- **Secondary Outcomes**:\n",
    "  - Residents' well-being (WHO-5 Well-Being Index), loneliness (UCLA Loneliness Scale), mood (Hospital Anxiety and Depression Scale), and cognitive function.\n",
    "  - Caregivers' stress (Perceived-Stress-Scale) and burnout risk (Burnout Assessment Tool).\n"
   ]
  },
  {
   "cell_type": "markdown",
   "metadata": {},
   "source": [
    "## Sample Size Calculation Rationale\n",
    "[Back to Table of Content](#table-of-content)\n",
    "\n",
    "For this randomized controlled trial (RCT), we aim to detect differences in PSQI scores across four intervention groups. Due to the inclusion of baseline covariates (e.g., baseline PSQI scores, age, sex, medication use), an ANCOVA model is more suitable than ANOVA, as it adjusts for these covariates and provides increased precision.\n",
    "\n",
    "To determine an appropriate sample size for detecting differences in PSQI scores across the four groups, we consider the study by Chang, Wang, and Yu (2014, PMID: 25394270), which investigated the effects of VR interventions on sleep quality in elderly participants using the PSQI.\n",
    "\n",
    "Reference Study Data (Chang, Wang, and Yu 2014)\n",
    "\n",
    "The study by Chang, Wang, and Yu (2014, PMID: 25394270) provides benchmark values for PSQI changes in a control and an experimental group, as shown below:\n",
    "\n",
    "| Group          | Baseline PSQI Mean | Post-Treatment PSQI Mean | Standard Deviation (SD) |\n",
    "|----------------|--------------------|--------------------------|--------------------------|\n",
    "| Control        | 5.60              | 6.20                    | 1.93                    |\n",
    "| Experimental   | 5.44              | 4.56                    | 1.67                    |\n",
    "\n",
    "Chang et al.’s findings indicate a significant improvement in PSQI for the experimental group (mean reduction of ~0.88 points) compared to the control group (mean increase of ~0.60 points). We use these values as assumptions for the expected impact of Nature-Boost's VR interventions on PSQI.\n"
   ]
  },
  {
   "cell_type": "markdown",
   "metadata": {},
   "source": [
    "## Simulation-Based Sample Size Calculation for ANCOVA\n",
    "[Back to Table of Content](#table-of-content)\n",
    "\n",
    "To accommodate the complexity of ANCOVA and covariate adjustments, we calculate the effect size step by step and conduct a power analysis using these parameters."
   ]
  },
  {
   "cell_type": "markdown",
   "metadata": {},
   "source": [
    "# 1- Sample Size Calculation\n",
    "[Back to Table of Content](#table-of-content)"
   ]
  },
  {
   "cell_type": "code",
   "execution_count": 54,
   "metadata": {
    "vscode": {
     "languageId": "r"
    }
   },
   "outputs": [],
   "source": [
    "# Load necessary package\n",
    "if (!requireNamespace(\"Superpower\", quietly = TRUE)) install.packages(\"Superpower\")\n",
    "library(Superpower)"
   ]
  },
  {
   "cell_type": "code",
   "execution_count": 57,
   "metadata": {
    "vscode": {
     "languageId": "r"
    }
   },
   "outputs": [
    {
     "name": "stdout",
     "output_type": "stream",
     "text": [
      "Eta squared: 0.2180313 \n"
     ]
    }
   ],
   "source": [
    "# Calculate the effect size (f^2) step by step\n",
    "# Using the ANCOVA F-statistic (F = 4.74, df_between = 1, df_error = 17)\n",
    "F_stat <- 4.74\n",
    "df_between <- 1\n",
    "df_error <- 17\n",
    "eta_squared <- (F_stat * df_between) / (F_stat * df_between + df_error)\n",
    "cat(\"Eta squared:\", eta_squared, \"\\n\")"
   ]
  },
  {
   "cell_type": "code",
   "execution_count": 58,
   "metadata": {
    "vscode": {
     "languageId": "r"
    }
   },
   "outputs": [
    {
     "name": "stdout",
     "output_type": "stream",
     "text": [
      "Effect size (f^2): 0.2788235 \n"
     ]
    }
   ],
   "source": [
    "# Convert eta^2 to f^2\n",
    "# Formula: f^2 = eta^2 / (1 - eta^2)\n",
    "f2 <- eta_squared / (1 - eta_squared)\n",
    "cat(\"Effect size (f^2):\", f2, \"\\n\")"
   ]
  },
  {
   "cell_type": "code",
   "execution_count": 59,
   "metadata": {
    "vscode": {
     "languageId": "r"
    }
   },
   "outputs": [],
   "source": [
    "# Representative SD for PSQI scores based on experimental group posttest\n",
    "sd <- 1.67"
   ]
  },
  {
   "cell_type": "code",
   "execution_count": 60,
   "metadata": {
    "vscode": {
     "languageId": "r"
    }
   },
   "outputs": [],
   "source": [
    "# Number of covariates (baseline PSQI, age, medication use)\n",
    "n_cov <- 3"
   ]
  },
  {
   "cell_type": "code",
   "execution_count": 61,
   "metadata": {
    "vscode": {
     "languageId": "r"
    }
   },
   "outputs": [],
   "source": [
    "# Proportion of variance explained by covariates\n",
    "r2 <- 0.25"
   ]
  },
  {
   "cell_type": "code",
   "execution_count": 62,
   "metadata": {
    "vscode": {
     "languageId": "r"
    }
   },
   "outputs": [],
   "source": [
    "# Significance level and power\n",
    "alpha_level <- 0.05  # Standard significance threshold\n",
    "beta_level <- 0.2    # 1 - desired power (80%)"
   ]
  },
  {
   "cell_type": "code",
   "execution_count": 63,
   "metadata": {
    "vscode": {
     "languageId": "r"
    }
   },
   "outputs": [],
   "source": [
    "# Expected attrition rate\n",
    "attrition_rate <- 0.30"
   ]
  },
  {
   "cell_type": "code",
   "execution_count": 64,
   "metadata": {
    "vscode": {
     "languageId": "r"
    }
   },
   "outputs": [],
   "source": [
    "# Perform power calculation using the Superpower package\n",
    "# Shieh's exact method for ANCOVA\n",
    "results <- Superpower::power_oneway_ancova(\n",
    "  mu = mu,                      # Group means\n",
    "  n_cov = n_cov,                # Number of covariates\n",
    "  sd = sd,                      # Representative SD\n",
    "  r2 = r2,                      # Proportion of variance explained by covariates\n",
    "  alpha_level = alpha_level,    # Significance level\n",
    "  beta_level = beta_level,      # Desired beta level\n",
    "  round_up = TRUE,              # Round up to nearest whole participant\n",
    "  type = \"exact\"                # Use Shieh's exact method\n",
    ")"
   ]
  },
  {
   "cell_type": "code",
   "execution_count": 65,
   "metadata": {
    "vscode": {
     "languageId": "r"
    }
   },
   "outputs": [
    {
     "name": "stdout",
     "output_type": "stream",
     "text": [
      "\n",
      "Power Calculation Results:\n",
      "\n",
      "     Power Calculation for 1-way ANCOVA \n",
      "\n",
      "            dfs = 3, 165\n",
      "              N = 172\n",
      "              n = 43, 43, 43, 43\n",
      "          n_cov = 3\n",
      "             mu = 5.60, 4.56, 5.00, 5.20\n",
      "             sd = 1.67\n",
      "             r2 = 0.25\n",
      "    alpha_level = 0.05\n",
      "     beta_level = 0.1939559\n",
      "          power = 80.60441\n",
      "           type = exact\n",
      "\n"
     ]
    }
   ],
   "source": [
    "# Display the results\n",
    "cat(\"\\nPower Calculation Results:\\n\")\n",
    "print(results)"
   ]
  },
  {
   "cell_type": "code",
   "execution_count": 66,
   "metadata": {
    "vscode": {
     "languageId": "r"
    }
   },
   "outputs": [
    {
     "name": "stdout",
     "output_type": "stream",
     "text": [
      "\n",
      "Adjusted Total Sample Size (accounting for 30% attrition): 246 \n"
     ]
    }
   ],
   "source": [
    "# Adjust sample size for attrition\n",
    "# Formula: Adjusted N = Total N / (1 - attrition rate)\n",
    "adjusted_sample_size <- ceiling(results$N / (1 - attrition_rate))\n",
    "cat(\"\\nAdjusted Total Sample Size (accounting for 30% attrition):\", adjusted_sample_size, \"\\n\")"
   ]
  },
  {
   "cell_type": "markdown",
   "metadata": {},
   "source": [
    "# 2-Conclusion\n",
    "[Back to Table of Content](#table-of-content)\n",
    "\n",
    "The objective of this analysis was to estimate the minimum sample size required per group to achieve adequate statistical power for detecting differences in PSQI (Pittsburgh Sleep Quality Index) scores across four intervention groups in the Nature-Boost randomized controlled trial. Given the study’s design and the inclusion of baseline PSQI scores as a covariate, an ANCOVA model was chosen as the primary method for analysis.\n",
    "\n",
    "We employed an analytical power analysis using the effect size calculated from Chang et al. (2014) and parameters specific to the Nature-Boost study. A target power of 80% was set, which is typically sufficient for clinical studies. Due to the elderly participant population, we accounted for a 30% dropout rate to ensure adequate power despite potential participant loss.\n",
    "\n",
    "The results from the power analysis indicated that a sample size of 43 participants per group would be required to achieve the target power of 80% without attrition. However, with a 30% attrition adjustment, the final recommended sample size increased to 62 participants per group. For the four-group design, this yields a total sample size of 246 participants. This adjusted sample size is expected to provide sufficient power, accounting for the elevated dropout rate, which is anticipated due to participants' advanced age and the physical constraints some may face with VR and sensory technology.\n",
    "\n",
    "In conclusion, recruiting 246 participants in total (62 per group) will allow the Nature-Boost study to detect meaningful differences between intervention groups in terms of sleep quality, even if a significant proportion of participants withdraw. This ensures that the study maintains robust statistical power and can draw reliable conclusions about the impact of nature-based interventions on sleep quality and well-being in long-term care residents.\n"
   ]
  }
 ],
 "metadata": {
  "kernelspec": {
   "display_name": "R",
   "language": "R",
   "name": "ir"
  },
  "language_info": {
   "codemirror_mode": "r",
   "file_extension": ".r",
   "mimetype": "text/x-r-source",
   "name": "R",
   "pygments_lexer": "r",
   "version": "4.3.2"
  }
 },
 "nbformat": 4,
 "nbformat_minor": 2
}
