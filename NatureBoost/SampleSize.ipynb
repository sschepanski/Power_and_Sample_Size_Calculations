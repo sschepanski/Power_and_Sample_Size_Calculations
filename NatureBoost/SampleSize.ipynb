{
 "cells": [
  {
   "cell_type": "markdown",
   "metadata": {},
   "source": [
    "# Table of Content"
   ]
  },
  {
   "cell_type": "markdown",
   "metadata": {},
   "source": [
    "- [Table of Content](#table-of-content)\n",
    "- [0-General](#0-general)\n",
    "  - [Introduction](#introduction)\n",
    "  - [Study Objectives](#study-objectives)\n",
    "  - [Study Significance](#study-significance)\n",
    "  - [Methods - Study Design](#methods---study-design)\n",
    "  - [Methods - Outcome Measures](#methods---outcome-measures)\n",
    "  - [Sample Size Calculation Rationale](#sample-size-calculation-rationale)\n",
    "  - [Simulation-Based Sample Size Calculation for ANCOVA](#simulation-based-sample-size-calculation-for-ancova)\n",
    "- [1-Sample Size Calculation](#1--sample-size-calculation)\n",
    "- [2-Conclusion](#2-conclusion)"
   ]
  },
  {
   "cell_type": "markdown",
   "metadata": {},
   "source": [
    "# 0-General\n",
    "[Back to Table of Content](#table-of-content)\n",
    "# Sample Size Calculation for the Nature-Boost Randomized Controlled Trial (RCT)"
   ]
  },
  {
   "cell_type": "markdown",
   "metadata": {},
   "source": [
    "## Introduction\n",
    "[Back to Table of Content](#table-of-content)\n",
    "\n",
    "The Nature-Boost project aims to address the rising challenges in long-term care facilities by enhancing the health and relationship between caregivers and residents through innovative, nature-based interventions. The project recognizes the dual burdens on both residents and staff due to increased demand for long-term care services and chronic workforce shortages in caregiving roles. In particular, residents often experience reduced mobility, social isolation, and sensory deprivation, which can impact sleep quality, mood, and overall well-being. Caregivers also face high levels of stress and burnout, contributing to a challenging work environment.\n",
    "\n",
    "To counter these challenges, the Nature-Boost project proposes immersive, multi-sensory interventions replicating nature experiences. These include:\n",
    "1. **Olfactory stimuli**: Essential oil blends simulating the scent of the Bavarian forest.\n",
    "2. **Visual stimuli**: VR simulations showing forest scenes.\n",
    "3. **Auditory stimuli**: Natural sounds, such as forest ambiance.\n"
   ]
  },
  {
   "cell_type": "markdown",
   "metadata": {},
   "source": [
    "## Study Objectives\n",
    "[Back to Table of Content](#table-of-content)\n",
    "\n",
    "The Nature-Boost study aims to test the health-promoting effects of virtual and sensory nature experiences for both residents and caregiving staff in long-term care settings. Specifically, it examines:\n",
    "1. **Primary Objective**: Assess whether immersive nature-based experiences improve residents' sleep quality.\n",
    "2. **Secondary Objectives**: Evaluate improvements in residents' overall well-being, mood, loneliness, cognitive function, and emotional exhaustion. Additionally, assess changes in caregivers' perceived stress and burnout.\n"
   ]
  },
  {
   "cell_type": "markdown",
   "metadata": {},
   "source": [
    "## Study Significance\n",
    "[Back to Table of Content](#table-of-content)\n",
    "\n",
    "The anticipated outcomes of Nature-Boost align with an urgent need for effective mental and physical health interventions in long-term care. By exploring whether digitally simulated nature experiences can improve sleep and reduce stress for those unable to access outdoor environments directly, the study could pave the way for scalable, accessible solutions for both residents and caregivers.\n"
   ]
  },
  {
   "cell_type": "markdown",
   "metadata": {},
   "source": [
    "## Methods - Study Design\n",
    "[Back to Table of Content](#table-of-content)\n",
    "\n",
    "This study will use a randomized controlled trial (RCT) design with four intervention groups:\n",
    "- **Experimental Group 1**: Participants receive an immersive sensory experience before sleep, combining forest-scented essential oils, VR forest images, and natural forest sounds.\n",
    "- **Experimental Group 2**: Participants experience VR images and natural sounds of the forest, without scent stimuli.\n",
    "- **Experimental Group 3**: Participants are exposed to forest-scented essential oils alone.\n",
    "- **Control Group**: Participants receive a neutral intervention, such as a non-nature-related video, without accompanying scents or sounds."
   ]
  },
  {
   "cell_type": "markdown",
   "metadata": {},
   "source": [
    "## Methods - Outcome Measures\n",
    "[Back to Table of Content](#table-of-content)\n",
    "\n",
    "- **Primary Outcome**: Sleep quality, assessed using the Pittsburgh Sleep Quality Index (PSQI).\n",
    "- **Secondary Outcomes**:\n",
    "  - Residents' well-being (WHO-5 Well-Being Index), loneliness (UCLA Loneliness Scale), mood (Hospital Anxiety and Depression Scale), and cognitive function.\n",
    "  - Caregivers' stress (Perceived-Stress-Scale) and burnout risk (Burnout Assessment Tool).\n"
   ]
  },
  {
   "cell_type": "markdown",
   "metadata": {},
   "source": [
    "## Sample Size Calculation Rationale\n",
    "[Back to Table of Content](#table-of-content)\n",
    "\n",
    "For this randomized controlled trial (RCT), we aim to detect differences in PSQI scores across four intervention groups. Due to the inclusion of baseline covariates (e.g., baseline PSQI scores, age, sex, medication use), an ANCOVA model is more suitable than ANOVA, as it adjusts for these covariates and provides increased precision.\n",
    "\n",
    "\n",
    "To determine an appropriate sample size for detecting differences in PSQI scores across the four groups, we consider the Wan et al. () study, which investigated the effects of VR interventions on sleep quality in elderly participants using the PSQI.\n",
    "\n",
    "### Reference Study Data (Wan et al.)\n",
    "The study by Wan et al. (2024, PMID: 39213857) provides benchmark values for PSQI changes in a control and a VR group, as shown below:\n",
    "\n",
    "| Group          | Baseline PSQI Mean | Post-Treatment PSQI Mean | Standard Deviation (SD) |\n",
    "|----------------|--------------------|--------------------------|--------------------------|\n",
    "| Control (n=20) | 14.00              | 9.90                     | 1.80                     |\n",
    "| VR (n=32)      | 13.94              | 8.37                     | 2.17                     |\n",
    "\n",
    "Wan et al.’s findings indicate a significant improvement in PSQI for the VR group (mean reduction of ~5.6 points) compared to the control (mean reduction of ~4.1 points). We use these values as assumptions for the expected impact of Nature-Boost's VR interventions on PSQI."
   ]
  },
  {
   "cell_type": "markdown",
   "metadata": {},
   "source": [
    "## Simulation-Based Sample Size Calculation for ANCOVA\n",
    "[Back to Table of Content](#table-of-content)\n",
    "\n",
    "To accommodate the complexity of ANCOVA and covariate adjustments, we conduct a simulation-based power analysis rather than relying on traditional formulas. In this simulation, we generate hypothetical data for each group based on:\n",
    "1. Expected post-intervention PSQI means for each group.\n",
    "2. The covariate effect (baseline PSQI on post-intervention PSQI).\n",
    "3. The standard deviation of PSQI scores (using Wan et al.'s reported values as a benchmark).\n",
    "\n",
    "The simulation will iterate over different sample sizes to determine the minimum number of participants required to achieve a target power of 80% for detecting a significant group effect. We anticipate a 20% dropout rate, so the sample size will be adjusted accordingly to ensure adequate power after accounting for attrition.\n"
   ]
  },
  {
   "cell_type": "markdown",
   "metadata": {},
   "source": [
    "# 1- Sample Size Calculation\n",
    "[Back to Table of Content](#table-of-content)"
   ]
  },
  {
   "cell_type": "code",
   "execution_count": 47,
   "metadata": {
    "vscode": {
     "languageId": "r"
    }
   },
   "outputs": [],
   "source": [
    "# Load the pwr package for power analysis\n",
    "if (!requireNamespace(\"pwr\", quietly = TRUE)) install.packages(\"pwr\")\n",
    "library(pwr)\n",
    "library(lme4)"
   ]
  },
  {
   "cell_type": "code",
   "execution_count": 59,
   "metadata": {
    "vscode": {
     "languageId": "r"
    }
   },
   "outputs": [],
   "source": [
    "# Set parameters based on Wan et al. data for Control Group\n",
    "# Control Group parameters\n",
    "baseline_mean_control <- 14.00\n",
    "baseline_sd_control <- 2.15\n",
    "post_mean_control <- 9.90\n",
    "post_sd_control <- 1.68\n",
    "delta_mean_control <- -4.10\n",
    "delta_sd_control <- 1.80"
   ]
  },
  {
   "cell_type": "code",
   "execution_count": 60,
   "metadata": {
    "vscode": {
     "languageId": "r"
    }
   },
   "outputs": [],
   "source": [
    "# Calculate the Covariate Effect\n",
    "# Estimate correlation between baseline and post-intervention PSQI\n",
    "correlation_baseline_post <- (delta_mean_control / post_sd_control) / sqrt((post_sd_control^2 / baseline_sd_control^2) + 1)"
   ]
  },
  {
   "cell_type": "code",
   "execution_count": 61,
   "metadata": {
    "vscode": {
     "languageId": "r"
    }
   },
   "outputs": [
    {
     "name": "stdout",
     "output_type": "stream",
     "text": [
      "Estimated Covariate Effect of Baseline PSQI on Post-Intervention PSQI: -1.502638 \n"
     ]
    }
   ],
   "source": [
    "# Calculate covariate effect (regression coefficient of baseline PSQI on post-intervention PSQI)\n",
    "covariate_effect <- (post_sd_control / baseline_sd_control) * correlation_baseline_post\n",
    "\n",
    "# Output covariate effect to verify\n",
    "cat(\"Estimated Covariate Effect of Baseline PSQI on Post-Intervention PSQI:\", covariate_effect, \"\\n\")"
   ]
  },
  {
   "cell_type": "code",
   "execution_count": 83,
   "metadata": {
    "vscode": {
     "languageId": "r"
    }
   },
   "outputs": [],
   "source": [
    "# Set Simulation Parameters for Power Analysis\n",
    "n_groups <- 4                # Number of intervention groups\n",
    "target_power <- 0.80         # Desired power level (80%)\n",
    "n_simulations <- 10000        # Number of simulations per sample size tested\n",
    "baseline_mean <- 14          # Mean baseline PSQI score across groups\n",
    "post_means <- c(9.9, 8.5, 8.0, 9.0)  # Expected post-intervention PSQI means for each group\n",
    "sd <- 2.0                    # Standard deviation for PSQI scores (from Wan et al.)\n",
    "alpha <- 0.05                # Significance level for the test\n",
    "attrition_rate <- 0.40       # Expected attrition rate (30%)\n"
   ]
  },
  {
   "cell_type": "code",
   "execution_count": 84,
   "metadata": {
    "vscode": {
     "languageId": "r"
    }
   },
   "outputs": [],
   "source": [
    "# Initialize variables for sample size and power estimation\n",
    "n_per_group <- 10            # Starting estimate for participants per group (this will increment)\n",
    "estimated_power <- 0         # Initialize estimated power"
   ]
  },
  {
   "cell_type": "code",
   "execution_count": 85,
   "metadata": {
    "vscode": {
     "languageId": "r"
    }
   },
   "outputs": [
    {
     "name": "stdout",
     "output_type": "stream",
     "text": [
      "Sample size per group: 10 - Estimated Power: 0.6436 \n",
      "Sample size per group: 12 - Estimated Power: 0.676 \n",
      "Sample size per group: 14 - Estimated Power: 0.7121 \n",
      "Sample size per group: 16 - Estimated Power: 0.7382 \n",
      "Sample size per group: 18 - Estimated Power: 0.7672 \n",
      "Sample size per group: 20 - Estimated Power: 0.7962 \n",
      "Sample size per group: 22 - Estimated Power: 0.8125 \n"
     ]
    }
   ],
   "source": [
    "# Loop to Find Minimum Sample Size per Group to Reach Target Power\n",
    "while (estimated_power < target_power) {\n",
    "  \n",
    "  # Initialize vector to store results from each simulation\n",
    "  significant_results <- numeric(n_simulations)\n",
    "  \n",
    "  # Loop over the number of simulations for the current sample size\n",
    "  for (i in 1:n_simulations) {\n",
    "    \n",
    "    # Generate data for each group with specified sample size and baseline PSQI\n",
    "    data <- data.frame(\n",
    "      group = rep(1:n_groups, each = n_per_group),  # Repeat group numbers to simulate 4 groups\n",
    "      baseline_psqi = rnorm(n_per_group * n_groups, mean = baseline_mean, sd = sd)  # Simulated baseline PSQI scores\n",
    "    )\n",
    "    \n",
    "    # Create post-intervention PSQI scores based on group means and covariate effect\n",
    "    data <- data %>%\n",
    "      mutate(\n",
    "        # post_psqi is based on baseline PSQI * covariate effect + group effect + random noise\n",
    "        post_psqi = baseline_psqi * covariate_effect + \n",
    "                    rnorm(n_per_group * n_groups, mean = rep(post_means, each = n_per_group), sd = sd)\n",
    "      )\n",
    "    \n",
    "    # Fit ANCOVA model with group as factor and baseline_psqi as covariate\n",
    "    model <- lm(post_psqi ~ factor(group) + baseline_psqi, data = data)\n",
    "    \n",
    "    # Extract p-value for group effect from ANCOVA results\n",
    "    anova_results <- anova(model)\n",
    "    p_value <- anova_results$`Pr(>F)`[1]  # First row corresponds to the group effect p-value\n",
    "    \n",
    "    # Record whether this simulation detected a significant effect (p < alpha)\n",
    "    significant_results[i] <- ifelse(p_value < alpha, 1, 0)\n",
    "  }\n",
    "  \n",
    "  # Calculate estimated power as the proportion of simulations with significant results\n",
    "  estimated_power <- mean(significant_results)\n",
    "  \n",
    "  # Print intermediate results for each sample size tested\n",
    "  cat(\"Sample size per group:\", n_per_group, \"- Estimated Power:\", estimated_power, \"\\n\")\n",
    "  \n",
    "  # Check if the estimated power meets or exceeds the target power\n",
    "  if (estimated_power < target_power) {\n",
    "    n_per_group <- n_per_group + 2  # Increase sample size by 2 per group for finer control\n",
    "  }\n",
    "}"
   ]
  },
  {
   "cell_type": "code",
   "execution_count": 86,
   "metadata": {
    "vscode": {
     "languageId": "r"
    }
   },
   "outputs": [],
   "source": [
    "# Adjust for 40% Attrition Rate\n",
    "adjusted_n_per_group <- ceiling(n_per_group / (1 - attrition_rate))"
   ]
  },
  {
   "cell_type": "code",
   "execution_count": 87,
   "metadata": {
    "vscode": {
     "languageId": "r"
    }
   },
   "outputs": [
    {
     "name": "stdout",
     "output_type": "stream",
     "text": [
      "Minimum sample size per group (with 30% attrition rate): 37"
     ]
    }
   ],
   "source": [
    "# Output the minimum sample size needed to achieve target power, adjusted for attrition\n",
    "cat(\"Minimum sample size per group (with 40% attrition rate):\", adjusted_n_per_group)"
   ]
  },
  {
   "cell_type": "markdown",
   "metadata": {},
   "source": [
    "# 2-Conclusion\n",
    "[Back to Table of Content](#table-of-content)\n",
    "\n",
    "The objective of this analysis was to estimate the minimum sample size required per group to achieve adequate statistical power for detecting differences in ***PSQI (Pittsburgh Sleep Quality Index) scores*** across four intervention groups in the Nature-Boost ***randomized controlled trial***. Given the study’s design and the inclusion of baseline PSQI scores as a covariate, an ***ANCOVA model*** was chosen as the primary method for analysis.\n",
    "\n",
    "We employed a simulation-based power analysis to determine the appropriate sample size per group, incrementally increasing the sample size until the simulation achieved the desired power. A target power of ***80%*** was set, which is typically sufficient for clinical studies. Due to the elderly participant population, which includes individuals who are bed-bound, we accounted for a high dropout rate of 40% to ensure adequate power despite potential participant loss.\n",
    "\n",
    "The results from the simulation indicated that a sample size of 22 participants per group would be required to achieve the target power of 80% without attrition. However, with a ***40% attrition*** adjustment, the final recommended sample size increased to 37 participants per group. For the four-group design, this yields a total sample size of 148 participants. This adjusted sample size is expected to provide sufficient power, accounting for the elevated dropout rate, which is anticipated due to participants' advanced age and the physical constraints some may face with VR and sensory technology.\n",
    "\n",
    "In conclusion, recruiting ***148 participants in total (37 per group)*** will allow the Nature-Boost study to detect meaningful differences between intervention groups in terms of sleep quality, even if a significant proportion of participants withdraw. This ensures that the study maintains robust statistical power and can draw reliable conclusions about the impact of nature-based interventions on sleep quality and well-being in long-term care residents."
   ]
  }
 ],
 "metadata": {
  "kernelspec": {
   "display_name": "R",
   "language": "R",
   "name": "ir"
  },
  "language_info": {
   "codemirror_mode": "r",
   "file_extension": ".r",
   "mimetype": "text/x-r-source",
   "name": "R",
   "pygments_lexer": "r",
   "version": "4.3.2"
  }
 },
 "nbformat": 4,
 "nbformat_minor": 2
}
