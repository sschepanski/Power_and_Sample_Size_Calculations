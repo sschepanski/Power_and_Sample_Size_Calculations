{
 "cells": [
  {
   "cell_type": "markdown",
   "metadata": {},
   "source": [
    "# Table of Content"
   ]
  },
  {
   "cell_type": "markdown",
   "metadata": {},
   "source": [
    "- [Table of Content](#table-of-content)\n",
    "- [0-General](#0-general)\n",
    "  - [0-Introduction](#0-introduction)\n",
    "  - [0-Objective](#0-objective)\n",
    "  - [0-Analysis](#0-analysis)\n",
    "  - [0-Data Dictionary](#0-data-dictionary)\n",
    "  - [0-Acknowledgements](#0-acknowledgements)\n",
    "- [1-Sample Size Calculation](#1--sample-size-calculation)"
   ]
  },
  {
   "cell_type": "markdown",
   "metadata": {},
   "source": [
    "# 0-General\n",
    "[Back to Table of Content](#table-of-content)\n",
    "\n",
    "# Sample Size Calculation for MindSpaceOne 2.0"
   ]
  },
  {
   "cell_type": "markdown",
   "metadata": {},
   "source": [
    "## Introduction\n",
    "[Back to Table of Content](#table-of-content)\n",
    "\n",
    "This sample size calculation aims to estimate the minimum number of participants required per group to detect differences in the primary outcome—subjective relaxation (MDBF \"Ruhe\" subscale)—after a 6-week intervention in the MindSpaceOne 2.0 RCT. The design includes four arms:\n",
    "\n",
    "1. HYPNOSE + BERGAMOTTE\n",
    "2. HYPNOSE + LAVENDEL\n",
    "3. HYPNOSE-only\n",
    "4. Pseudo-Control (neither hypnotherapy nor aroma)\n",
    "\n",
    "A one-way ANCOVA will be used to assess between-group differences at T2 (post-intervention), controlling for baseline MDBF values."
   ]
  },
  {
   "cell_type": "markdown",
   "metadata": {},
   "source": [
    "### Reference Study Data: MindSpaceOne 1.0\n",
    "\n",
    "Based on results from the previous MindSpaceOne 1.0 study:\n",
    "- Cohen's d for HYPNOSE+AROMA vs. Control ≈ 0.38\n",
    "- Cohen's d for HYPNOSE-only vs. Control ≈ 0.33\n",
    "\n",
    "To remain conservative while still allowing for a slightly broader recruitment base, we adopt Cohen’s f = 0.175 as the expected effect size for group differences. This value is slightly below the midpoint of the observed range (d ≈ 0.35–0.38), but still represents a realistic estimate of detectable between-group variance. Given the intensity and length of the intervention (6 weeks, 24 sessions), a dropout rate of 35% is assumed to reflect potential participant burden in this preventive, non-clinical sample."
   ]
  },
  {
   "cell_type": "markdown",
   "metadata": {},
   "source": [
    "# 1- Sample Size Calculation\n",
    "[Back to Table of Content](#table-of-content)"
   ]
  },
  {
   "cell_type": "code",
   "execution_count": 17,
   "metadata": {
    "vscode": {
     "languageId": "r"
    }
   },
   "outputs": [
    {
     "name": "stdout",
     "output_type": "stream",
     "text": [
      "Required sample size per group (no dropout): 73 \n",
      "Required sample size per group (with 35% dropout): 105 \n",
      "Adjusted total sample size with subgroup compensation: 630 participants\n"
     ]
    }
   ],
   "source": [
    "# Load required package\n",
    "if (!require(pwr)) install.packages(\"pwr\")\n",
    "library(pwr)\n",
    "\n",
    "### === INPUT SECTION ===\n",
    "\n",
    "k <- 4                        # number of groups in the initial ANOVA\n",
    "cohen_f_raw <- 0.175         # conservative effect size estimate (based on PP d ≈ 0.35–0.38)\n",
    "r_squared <- 0.20            # variance explained by baseline covariate (ANCOVA)\n",
    "alpha <- 0.05                # significance level (two-sided)\n",
    "power <- 0.80                # desired statistical power\n",
    "dropout_rate <- 0.30         # expected dropout rate due to study length/frequency\n",
    "\n",
    "# === EFFECT SIZE ADJUSTMENT FOR ANCOVA ===\n",
    "cohen_f_adj <- cohen_f_raw / sqrt(1 - r_squared)\n",
    "\n",
    "# === RAW SAMPLE SIZE CALCULATION ===\n",
    "result <- pwr.anova.test(k = k, f = cohen_f_adj, sig.level = alpha, power = power)\n",
    "n_raw <- ceiling(result$n)  # raw sample size per group before dropout\n",
    "cat(\"Required sample size per group (no dropout):\", n_raw, \"\\n\")\n",
    "\n",
    "# === DROPOUT ADJUSTMENT ===\n",
    "n_corrected <- ceiling(n_raw / (1 - dropout_rate))  # adjusted for 35% dropout\n",
    "cat(\"Required sample size per group (with 35% dropout):\", n_corrected, \"\\n\")\n",
    "\n",
    "# === COMPENSATION FOR SUBGROUP SPLIT ===\n",
    "# Two of the four groups will later be split into subgroups,\n",
    "# so they require double the sample size to retain statistical power in the split.\n",
    "# We assume groups 1 and 2 need to be doubled.\n",
    "\n",
    "group_sizes <- c(\n",
    "  n_corrected * 2,  # Group 1 (to be split)\n",
    "  n_corrected * 2,  # Group 2 (to be split)\n",
    "  n_corrected,      # Group 3\n",
    "  n_corrected       # Group 4\n",
    ")\n",
    "\n",
    "# === TOTAL SAMPLE SIZE CALCULATION ===\n",
    "total_n <- sum(group_sizes)\n",
    "cat(\"Adjusted total sample size with subgroup compensation:\", total_n, \"participants\\n\")"
   ]
  },
  {
   "cell_type": "markdown",
   "metadata": {},
   "source": [
    "# 2-Conclusion\n",
    "[Back to Table of Content](#table-of-content)\n",
    "\n",
    "The objective of this analysis was to estimate the minimum sample size required per group to ensure adequate statistical power for detecting group differences in subjective relaxation as measured by the “Ruhe” subscale of the Mehrdimensionaler Befindlichkeitsfragebogen (MDBF) following a 6-week digital intervention. The planned randomized controlled trial includes four parallel arms and uses a one-way ANCOVA model for the primary analysis, with baseline scores included as covariates to improve statistical power and reduce residual variance.\n",
    "\n",
    "The expected effect size was based on outcome data from the previous MindSpaceOne 1.0 study, where Cohen’s d ranged between 0.33 and 0.49 for comparisons between hypnotherapeutic interventions and control. A conservative average was adopted and translated to a Cohen’s f of 0.175. Assuming baseline values explain 20% of the outcome variance (R² = 0.20), this results in an adjusted Cohen’s f of approximately 0.196 for the ANCOVA model.\n",
    "\n",
    "Using this adjusted effect size and targeting a conventional power of 80% with a two-sided significance level of 0.05, the estimated sample size per group is 73 participants (without dropout). To account for an anticipated dropout rate of 35%—which reflects the expected burden of a high-frequency 6-week digital intervention—the adjusted sample size increases to 105 participants per group.\n",
    "\n",
    "Importantly, two of the four study arms will be split into subgroups for further follow-up analyses after the main intervention phase. To ensure sufficient power for these subsequent subgroup comparisons, the initial sample size in those two arms must be doubled. As a result, the final recommended total sample size is 630 participants across all groups.\n",
    "\n",
    "In conclusion, recruiting 630 participants will ensure that MindSpaceOne 2.0 is sufficiently powered to detect meaningful group differences in subjective relaxation, accommodate expected dropout, and support additional planned subgroup analyses within the trial design."
   ]
  }
 ],
 "metadata": {
  "kernelspec": {
   "display_name": "R",
   "language": "R",
   "name": "ir"
  },
  "language_info": {
   "codemirror_mode": "r",
   "file_extension": ".r",
   "mimetype": "text/x-r-source",
   "name": "R",
   "pygments_lexer": "r",
   "version": "4.3.2"
  }
 },
 "nbformat": 4,
 "nbformat_minor": 2
}
