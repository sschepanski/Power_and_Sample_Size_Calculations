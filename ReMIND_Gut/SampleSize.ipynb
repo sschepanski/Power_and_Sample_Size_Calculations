{
 "cells": [
  {
   "cell_type": "markdown",
   "metadata": {},
   "source": [
    "# Table of Content"
   ]
  },
  {
   "cell_type": "markdown",
   "metadata": {},
   "source": [
    "- [Table of Content](#table-of-content)\n",
    "- [0-General](#0-general)\n",
    "  - [0-Introduction](#0-introduction)\n",
    "  - [0-Objective](#0-objective)\n",
    "  - [0-Analysis](#0-analysis)\n",
    "  - [0-Data Dictionary](#0-data-dictionary)\n",
    "  - [0-Acknowledgements](#0-acknowledgements)\n",
    "- [1-Sample Size Calculation](#1--sample-size-calculation)"
   ]
  },
  {
   "cell_type": "markdown",
   "metadata": {},
   "source": [
    "# 0-General\n",
    "[Back to Table of Content](#table-of-content)\n",
    "\n",
    "# Sample Size Calculation for the SCFA Meditation RCT"
   ]
  },
  {
   "cell_type": "markdown",
   "metadata": {},
   "source": [
    "## Introduction\n",
    "[Back to Table of Content](#table-of-content)\n",
    "\n",
    "This study investigates whether an 8-week self-administered online meditation program influences gut microbiome composition and SCFA profiles in healthy adults. SCFAs (short-chain fatty acids), including butyrate, acetate, and propionate, are microbial metabolites with immunomodulatory properties. They play a role in maintaining intestinal barrier integrity and modulating systemic inflammation. Given that both SCFAs and the gut microbiome are highly sensitive to dietary intake, the study also includes dietary data (via food frequency questionnaire) as a covariate.\n"
   ]
  },
  {
   "cell_type": "markdown",
   "metadata": {},
   "source": [
    "## Study Objectives\n",
    "[Back to Table of Content](#table-of-content)\n",
    "\n",
    "1. **Primary Objective**: To evaluate whether fecal SCFA concentrations (particularly iso-butyrate) differ between the meditation group and the active control (audiobook) group after 8 weeks (T2), controlling for baseline values (T0).\n",
    "2. **Secondary Objective**: To assess changes in gut microbial composition and associations with self-reported stress and mindfulness.\n"
   ]
  },
  {
   "cell_type": "markdown",
   "metadata": {},
   "source": [
    "## Study Significance\n",
    "[Back to Table of Content](#table-of-content)\n",
    "\n",
    "This will be the first randomized controlled trial to investigate the effect of a fully remote meditation program on gut microbial metabolites. By focusing on SCFAs as functional immune-relevant readouts and incorporating dietary intake as a covariate, the study closes a critical gap in behavioral microbiome research.\n"
   ]
  },
  {
   "cell_type": "markdown",
   "metadata": {},
   "source": [
    "## Methods - Study Design\n",
    "[Back to Table of Content](#table-of-content)\n",
    "\n",
    "The study uses a randomized controlled trial design with two parallel groups:\n",
    "- **Meditation Group**: Self-guided online meditation sessions over 8 weeks.\n",
    "- **Audiobook Control Group**: Equivalent time exposure to emotionally neutral audio material.\n",
    "\n",
    "Stool samples are collected at:\n",
    "- **T0 (Baseline)**\n",
    "- **T2 (Post-Intervention)**\n",
    "\n",
    "Diet is assessed at T0 and T2 using validated food frequency questionnaires.\n"
   ]
  },
  {
   "cell_type": "markdown",
   "metadata": {},
   "source": [
    "## Methods - Outcome Measures\n",
    "[Back to Table of Content](#table-of-content)\n",
    "\n",
    "- **Primary Outcome**: Fecal SCFA levels (iso-butyrate in particular), measured via LC-MS.\n",
    "- **Covariates**: Baseline SCFA level and dietary intake (e.g., fiber consumption, plant-based proportion).\n"
   ]
  },
  {
   "cell_type": "markdown",
   "metadata": {},
   "source": [
    "## Sample Size Calculation Rationale\n",
    "[Back to Table of Content](#table-of-content)\n",
    "\n",
    "We aim to detect a between-group difference in fecal SCFA (iso-butyrate) concentrations at T2, adjusted for baseline values. Because no RCT to date has isolated the effect of meditation on fecal SCFAs, we base our assumptions on Raman et al. (2023), who observed a statistically significant increase in iso-butyrate following a 60-day combined yoga and vegan-diet intervention.\n"
   ]
  },
  {
   "cell_type": "markdown",
   "metadata": {},
   "source": [
    "### Reference Study Data (Raman et al., 2023)\n",
    "- Significant increase in iso-butyrate from T1 to T2 in meditators: padj = 0.019\n",
    "- Visual inspection of figures suggests increase from ~0.8 to ~1.1 arbitrary units\n",
    "- No absolute means or SDs were reported\n",
    "- Approximate effect size estimated at Cohen's d ≈ 0.4\n",
    "\n",
    "We conservatively adopt **d = 0.4** as a plausible effect size for the between-group difference in iso-butyrate at T2. We simulate data using a linear mixed model with baseline and diet as covariates.\n"
   ]
  },
  {
   "cell_type": "markdown",
   "metadata": {},
   "source": [
    "# 1- Sample Size Calculation\n",
    "[Back to Table of Content](#table-of-content)"
   ]
  },
  {
   "cell_type": "code",
   "execution_count": 122,
   "metadata": {
    "vscode": {
     "languageId": "r"
    }
   },
   "outputs": [
    {
     "name": "stdout",
     "output_type": "stream",
     "text": [
      "Cohen's d: 0.458 \n",
      "Unadjusted Cohen's f: 0.229 \n",
      "Adjusted Cohen's f (ANCOVA): 0.274 \n",
      "Required sample size per group (no dropout): 54 \n",
      "Required sample size per group (with 20% dropout): 68 \n"
     ]
    }
   ],
   "source": [
    "# Load required package\n",
    "if (!require(pwr)) install.packages(\"pwr\")\n",
    "library(pwr)\n",
    "\n",
    "### === INPUT SECTION ===\n",
    "\n",
    "# Estimated mean difference in iso-butyrate (T2 - T1 in meditators)\n",
    "# Visual estimate based on Figure 6A in Raman et al. (2023)\n",
    "# T1 mean = 0.020\n",
    "# T2 mean = 0.026\n",
    "# T2 - T1 = 0.026 - 0.020 = 0.006\n",
    "mean_diff <- 0.006\n",
    "\n",
    "# Pooled SD estimated from boxplot IQRs:\n",
    "# IQR_T1 ≈ 0.015 -> SD ≈ 0.015/ 1.35 = 0.0111\n",
    "# IQR_T2 ≈ 0.020 -> SD ≈ 0.020/ 1.35 = 0.0148\n",
    "# pooled SD = sqrt((0.0111² + 0.0148²) / 2)\n",
    "pooled_sd <- 0.0131\n",
    "\n",
    "# Estimate of variance explained by baseline SCFA (assumption)\n",
    "r_squared <- 0.30   # i.e. 30%\n",
    "\n",
    "# === EFFECT SIZE CALCULATION ===\n",
    "\n",
    "# Cohen's d\n",
    "cohen_d <- mean_diff / pooled_sd\n",
    "cat(\"Cohen's d:\", round(cohen_d, 3), \"\\n\")\n",
    "\n",
    "# Convert to Cohen's f\n",
    "cohen_f_raw <- cohen_d / 2\n",
    "cat(\"Unadjusted Cohen's f:\", round(cohen_f_raw, 3), \"\\n\")\n",
    "\n",
    "# Adjust Cohen's f for R² from baseline covariate\n",
    "cohen_f_ancova <- cohen_f_raw / sqrt(1 - r_squared)\n",
    "cat(\"Adjusted Cohen's f (ANCOVA):\", round(cohen_f_ancova, 3), \"\\n\")\n",
    "\n",
    "# === SAMPLE SIZE CALCULATION ===\n",
    "\n",
    "# Calculate sample size per group without dropout\n",
    "result <- pwr.anova.test(k = 2, f = cohen_f_ancova, sig.level = 0.05, power = 0.80)\n",
    "n_raw <- ceiling(result$n)\n",
    "cat(\"Required sample size per group (no dropout):\", n_raw, \"\\n\")\n",
    "\n",
    "# === ADJUST FOR DROPOUT ===\n",
    "\n",
    "dropout_rate <- 0.20  # 20% dropout\n",
    "n_corrected <- ceiling(n_raw / (1 - dropout_rate))\n",
    "cat(\"Required sample size per group (with 20% dropout):\", n_corrected, \"\\n\")\n"
   ]
  },
  {
   "cell_type": "markdown",
   "metadata": {},
   "source": [
    "# 2-Conclusion\n",
    "[Back to Table of Content](#table-of-content)\n",
    "\n",
    "The objective of this analysis was to estimate the minimum sample size required per group to ensure adequate statistical power for detecting group differences in short-chain fatty acid (SCFA) concentrations—specifically iso-butyrate levels—at follow-up (T2) in an upcoming randomized controlled trial. Since baseline SCFA concentrations (T1) will be included as a covariate in the primary analysis, an ANCOVA model was selected to account for baseline variability and improve statistical power.\n",
    "\n",
    "The effect size was estimated based on Figure 6A from Raman et al. (2023), which illustrated iso-butyrate levels in meditators before (T1) and after a two-month preparatory phase (T2). The mean difference between T2 and T1 was visually approximated at 0.006 micromolar proportions, and the pooled standard deviation was estimated at 0.0131, yielding a Cohen’s d of 0.458. This corresponds to a Cohen’s f of 0.229, which was then adjusted to 0.274 under the assumption that baseline SCFA levels explain 30% of the variance in follow-up values (R² = 0.30).\n",
    "\n",
    "Using this adjusted effect size and targeting a conventional power of 80% with a significance level of 0.05, the analysis indicated that a sample size of 54 participants per group would be sufficient, assuming no attrition. To account for an anticipated 20% dropout rate, the final recommended sample size is 68 participants per group, resulting in a total of 136 participants across both groups.\n",
    "\n",
    "In conclusion, recruiting 136 participants in total (68 per group) will provide the planned RCT with sufficient power to detect clinically meaningful differences in SCFA outcomes between the intervention and control arms, while accounting for baseline measurements and expected attrition."
   ]
  }
 ],
 "metadata": {
  "kernelspec": {
   "display_name": "R",
   "language": "R",
   "name": "ir"
  },
  "language_info": {
   "codemirror_mode": "r",
   "file_extension": ".r",
   "mimetype": "text/x-r-source",
   "name": "R",
   "pygments_lexer": "r",
   "version": "4.3.2"
  }
 },
 "nbformat": 4,
 "nbformat_minor": 2
}
