{
 "cells": [
  {
   "cell_type": "markdown",
   "metadata": {},
   "source": [
    "# Table of Content"
   ]
  },
  {
   "cell_type": "markdown",
   "metadata": {},
   "source": [
    "- [Table of Content](#table-of-content)\n",
    "- [0-General](#0-general)\n",
    "  - [0-Introduction](#0-introduction)\n",
    "  - [0-Objective](#0-objective)\n",
    "  - [0-Analysis](#0-analysis)\n",
    "  - [0-Data Dictionary](#0-data-dictionary)\n",
    "  - [0-Acknowledgements](#0-acknowledgements)\n",
    "- [1-Sample Size Calculation](#1--sample-size-calculation)"
   ]
  },
  {
   "cell_type": "markdown",
   "metadata": {},
   "source": [
    "## 0-General"
   ]
  },
  {
   "cell_type": "markdown",
   "metadata": {},
   "source": [
    "## 0-Introduction\n",
    "[Back to Table of Content](#table-of-content)\n",
    "\n",
    "The ECO-IMBACT study investigates the effects of consuming Demeter-certified organic food on body composition, immune function, and the microbiome in overweight and obese children and adolescents. This randomized controlled trial (RCT) addresses the potential benefits of organic versus conventional food consumption in a pediatric population.\n"
   ]
  },
  {
   "cell_type": "markdown",
   "metadata": {},
   "source": [
    "## 0-Objective\n",
    "[Back to Table of Content](#table-of-content)\n",
    "\n",
    "To assess the impact of Demeter-certified organic food consumption compared to conventional food on fat mass and related secondary outcomes (e.g., microbiome diversity, immune markers, and psychological endpoints) in overweight and obese children and adolescents.\n"
   ]
  },
  {
   "cell_type": "markdown",
   "metadata": {},
   "source": [
    "## 0-Analysis\n",
    "[Back to Table of Content](#table-of-content)\n",
    "\n",
    "The analysis will include both Intention-to-Treat (ITT) and Per-Protocol (PP) approaches. Mixed-effects models will be employed to assess primary and secondary outcomes. Baseline covariates will be included to reduce confounding. Sensitivity analyses will address potential biases due to missing data.\n"
   ]
  },
  {
   "cell_type": "markdown",
   "metadata": {},
   "source": [
    "## 0-Data Dictionary\n",
    "[Back to Table of Content](#table-of-content)\n",
    "\n",
    "Primary Outcome:\n",
    "- Fat mass (measured via bioelectrical impedance analysis)\n",
    "\n",
    "Secondary Outcomes:\n",
    "- Clinical, microbiome, immune, and psychological endpoints"
   ]
  },
  {
   "cell_type": "markdown",
   "metadata": {},
   "source": [
    "## 0-Acknowledgements\n",
    "[Back to Table of Content](#table-of-content)\n",
    "\n",
    "We extended our gratitude to the entire research group of [Prof. Dr. med. Seifert](https://kinderonkologie.charite.de/forschung/ag_seifert/team/) and all participating kindergartens and participants for their invalubale contributions to this study as well as thanks to the funding agencies. Statistical analysis was conducted by Dr. Steven Schepanski, who also oversaw this notebook."
   ]
  },
  {
   "cell_type": "markdown",
   "metadata": {},
   "source": [
    "# 1- Sample Size Calculation\n",
    "[Back to Table of Content](#table-of-content)"
   ]
  },
  {
   "cell_type": "markdown",
   "metadata": {},
   "source": [
    "The sample size calculation focuses on detecting a clinically meaningful difference in fat mass between the intervention and control groups with a significance level of 0.05 and power of 80%. Dropout rate is accounted for at 30%. We used a study that investigated the effects of vegetarian, vegan, or omnivore diets in children between 5- to 10-y-old.\n",
    "\n",
    "Desmond MA, Sobiecki JG, Jaworski M, Płudowski P, Antoniewicz J, Shirley MK, Eaton S, Książyk J, Cortina-Borja M, De Stavola B, Fewtrell M, Wells JCK. Growth, body composition, and cardiovascular and nutritional risk of 5- to 10-y-old children consuming vegetarian, vegan, or omnivore diets. Am J Clin Nutr. 2021 Jun 1;113(6):1565-1577. doi: 10.1093/ajcn/nqaa445. PMID: 33740036; PMCID: PMC8176147."
   ]
  },
  {
   "cell_type": "code",
   "execution_count": 2,
   "metadata": {
    "vscode": {
     "languageId": "r"
    }
   },
   "outputs": [
    {
     "name": "stderr",
     "output_type": "stream",
     "text": [
      "Loading required namespace: pwr\n",
      "\n"
     ]
    }
   ],
   "source": [
    "# Install required packages\n",
    "if (!requireNamespace(\"pwr\")) install.packages(\"pwr\")\n",
    "library(pwr)"
   ]
  },
  {
   "cell_type": "code",
   "execution_count": 3,
   "metadata": {
    "vscode": {
     "languageId": "r"
    }
   },
   "outputs": [],
   "source": [
    "# Input data from the study\n",
    "delta <- -0.72  # Mean difference (e.g., between groups)\n",
    "ci_upper <- -0.32  # Upper limit of the confidence interval\n",
    "ci_lower <- -1.12  # Lower limit of the confidence interval\n",
    "n_omnivore <- 72  # Sample size for the omnivore group\n",
    "n_vegan <- 52  # Sample size for the vegan group\n",
    "z_value <- 1.96  # Z-value for 95% confidence level"
   ]
  },
  {
   "cell_type": "code",
   "execution_count": 4,
   "metadata": {
    "vscode": {
     "languageId": "r"
    }
   },
   "outputs": [
    {
     "name": "stdout",
     "output_type": "stream",
     "text": [
      "Standard Error (SE): 0.2040816 \n"
     ]
    }
   ],
   "source": [
    "# Step 1: Calculate Standard Error (SE)\n",
    "se <- (ci_upper - ci_lower) / (2 * z_value)\n",
    "cat(\"Standard Error (SE):\", se, \"\\n\")"
   ]
  },
  {
   "cell_type": "code",
   "execution_count": 7,
   "metadata": {
    "vscode": {
     "languageId": "r"
    }
   },
   "outputs": [
    {
     "name": "stdout",
     "output_type": "stream",
     "text": [
      "Pooled Standard Deviation (SD_pool): 1.121401 \n"
     ]
    }
   ],
   "source": [
    "# Step 2: Calculate Pooled Standard Deviation (SD_pool)\n",
    "sd_pool <- se / sqrt((1 / n_omnivore) + (1 / n_vegan))\n",
    "cat(\"Pooled Standard Deviation (SD_pool):\", sd_pool, \"\\n\")"
   ]
  },
  {
   "cell_type": "code",
   "execution_count": 8,
   "metadata": {
    "vscode": {
     "languageId": "r"
    }
   },
   "outputs": [
    {
     "name": "stdout",
     "output_type": "stream",
     "text": [
      "Cohen's d: 0.6420539 \n"
     ]
    }
   ],
   "source": [
    "# Step 3: Calculate Cohen's d\n",
    "cohens_d <- abs(delta) / sd_pool\n",
    "cat(\"Cohen's d:\", cohens_d, \"\\n\")"
   ]
  },
  {
   "cell_type": "code",
   "execution_count": 9,
   "metadata": {
    "vscode": {
     "languageId": "r"
    }
   },
   "outputs": [],
   "source": [
    "# Parameters for sample size calculation\n",
    "alpha <- 0.05  # Significance level\n",
    "power <- 0.80  # Desired power"
   ]
  },
  {
   "cell_type": "code",
   "execution_count": 10,
   "metadata": {
    "vscode": {
     "languageId": "r"
    }
   },
   "outputs": [],
   "source": [
    "# Simulated R^2 values (total variance explained by covariates)\n",
    "R2_total_values <- seq(0.1, 0.5, by = 0.05)  # Total R^2 (covariates)"
   ]
  },
  {
   "cell_type": "code",
   "execution_count": 11,
   "metadata": {
    "vscode": {
     "languageId": "r"
    }
   },
   "outputs": [],
   "source": [
    "# Number of predictors in the model\n",
    "u <- 5  # Group effect + 4 additional covariates"
   ]
  },
  {
   "cell_type": "code",
   "execution_count": 12,
   "metadata": {
    "vscode": {
     "languageId": "r"
    }
   },
   "outputs": [],
   "source": [
    "# Function to calculate sample size with covariates\n",
    "calculate_sample_size_covariates <- function(R2_total, d, alpha, power, u) {\n",
    "  f2 <- d^2 / (1 - R2_total)  # Adjusted effect size for ANCOVA\n",
    "  pwr.f2.test(u = u, v = NULL, f2 = f2, sig.level = alpha, power = power)$v + 1\n",
    "}"
   ]
  },
  {
   "cell_type": "code",
   "execution_count": 13,
   "metadata": {
    "vscode": {
     "languageId": "r"
    }
   },
   "outputs": [],
   "source": [
    "# Calculate sample sizes for varying R2\n",
    "sample_sizes_covariates <- sapply(R2_total_values, calculate_sample_size_covariates, \n",
    "                                  d = abs(cohens_d), alpha = alpha, power = power, u = u)"
   ]
  },
  {
   "cell_type": "code",
   "execution_count": 14,
   "metadata": {
    "vscode": {
     "languageId": "r"
    }
   },
   "outputs": [],
   "source": [
    "# Adjust for 30% dropout\n",
    "dropout_rate <- 0.30\n",
    "adjusted_sample_sizes <- ceiling(sample_sizes_covariates / (1 - dropout_rate))"
   ]
  },
  {
   "cell_type": "code",
   "execution_count": 15,
   "metadata": {
    "vscode": {
     "languageId": "r"
    }
   },
   "outputs": [],
   "source": [
    "# Create a data frame with results\n",
    "results_covariates <- data.frame(\n",
    "  R2_Total = R2_total_values,\n",
    "  Required_Sample_Size_per_Group = ceiling(sample_sizes_covariates),\n",
    "  Adjusted_Sample_Size_per_Group = adjusted_sample_sizes\n",
    ")"
   ]
  },
  {
   "cell_type": "code",
   "execution_count": 16,
   "metadata": {
    "vscode": {
     "languageId": "r"
    }
   },
   "outputs": [
    {
     "name": "stdout",
     "output_type": "stream",
     "text": [
      "  R2_Total Required_Sample_Size_per_Group Adjusted_Sample_Size_per_Group\n",
      "1     0.10                             29                             42\n",
      "2     0.15                             28                             40\n",
      "3     0.20                             26                             38\n",
      "4     0.25                             25                             35\n",
      "5     0.30                             23                             33\n",
      "6     0.35                             22                             31\n",
      "7     0.40                             20                             29\n",
      "8     0.45                             19                             27\n",
      "9     0.50                             17                             25\n"
     ]
    }
   ],
   "source": [
    "# Print results\n",
    "print(results_covariates)"
   ]
  },
  {
   "cell_type": "markdown",
   "metadata": {},
   "source": [
    "## Results Interpretation\n",
    "The calculations indicate that for a conservative \\( R^2 = 0.10 \\), the study requires a total of 84 participants (42 per group) to achieve adequate power. Adjusting for a 30% dropout rate ensures the robustness of the study design."
   ]
  },
  {
   "cell_type": "markdown",
   "metadata": {},
   "source": [
    "## Practical Implications\n",
    "Recruitment efforts should focus on achieving the adjusted target of 42 participants per group, meaning **84 participants** in total."
   ]
  }
 ],
 "metadata": {
  "kernelspec": {
   "display_name": "R",
   "language": "R",
   "name": "ir"
  },
  "language_info": {
   "codemirror_mode": "r",
   "file_extension": ".r",
   "mimetype": "text/x-r-source",
   "name": "R",
   "pygments_lexer": "r",
   "version": "4.3.2"
  }
 },
 "nbformat": 4,
 "nbformat_minor": 2
}
