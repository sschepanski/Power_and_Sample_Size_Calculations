{
 "cells": [
  {
   "cell_type": "markdown",
   "metadata": {},
   "source": [
    "# Table of Content"
   ]
  },
  {
   "cell_type": "markdown",
   "metadata": {},
   "source": [
    "- [Table of Content](#table-of-content)\n",
    "- [0-General](#0-general)\n",
    "  - [Introduction](#introduction)\n",
    "  - [Study Objectives](#study-objectives)\n",
    "  - [Study Significance](#study-significance)\n",
    "  - [Methods - Study Design](#methods---study-design)\n",
    "  - [Methods - Outcome Measures](#methods---outcome-measures)\n",
    "  - [Sample Size Calculation Rationale](#sample-size-calculation-rationale)\n",
    "  - [Simulation-Based Sample Size Calculation for ANCOVA](#simulation-based-sample-size-calculation-for-ancova)\n",
    "- [1-Sample Size Calculation](#1-sample-size-calculation)\n",
    "- [2-Conclusion](#2-conclusion)"
   ]
  },
  {
   "cell_type": "markdown",
   "metadata": {},
   "source": [
    "# 0-General\n",
    "[Back to Table of Content](#table-of-content)\n",
    "# Sample Size Calculation for the MindfulPolice Randomized Controlled Trial"
   ]
  },
  {
   "cell_type": "markdown",
   "metadata": {},
   "source": [
    "## Introduction\n",
    "[Back to Table of Content](#table-of-content)\n",
    "\n",
    "The MindfulPolice project aims to improve the mental health and emotional well-being of police officers through a targeted mindfulness intervention. Police officers face unique stressors that increase the risk of psychological distress, burnout, and diminished well-being. Given the high-pressure environment and the demands of their work, the need for effective, evidence-based mental health interventions is critical.\n",
    "\n",
    "To address these challenges, the MindfulPolice project proposes a mindfulness intervention specifically designed for police officers. The intervention will be assessed at three time points:\n",
    "1. **T0**: Baseline\n",
    "2. **T1**: Immediately after the intervention\n",
    "3. **T2**: Four months post-intervention\n"
   ]
  },
  {
   "cell_type": "markdown",
   "metadata": {},
   "source": [
    "## Study Objectives\n",
    "[Back to Table of Content](#table-of-content)\n",
    "\n",
    "The MindfulPolice study aims to evaluate the effectiveness of a mindfulness-based intervention in enhancing mindfulness among police officers. Specifically, the objectives are:\n",
    "1. **Primary Objective**: Assess changes in mindfulness levels using the German version of the Five Facet Mindfulness Questionnaire (FFMQ-D) at T1, adjusted for baseline (T0) scores.\n",
    "2. **Secondary Objectives**: Examine the sustainability of mindfulness improvements at T2 and explore additional benefits, such as reductions in perceived stress, emotional exhaustion, and enhancements in overall well-being.\n"
   ]
  },
  {
   "cell_type": "markdown",
   "metadata": {},
   "source": [
    "## Study Significance\n",
    "[Back to Table of Content](#table-of-content)\n",
    "\n",
    "The anticipated outcomes of MindfulPolice are significant given the urgent need for effective mental health support in law enforcement. By providing an intervention that is accessible and specifically tailored to the needs of police officers, the study aims to promote resilience, improve coping mechanisms, and ultimately foster a healthier work environment.\n",
    "\n"
   ]
  },
  {
   "cell_type": "markdown",
   "metadata": {},
   "source": [
    "## Methods - Study Design\n",
    "[Back to Table of Content](#table-of-content)\n",
    "\n",
    "The study will use a randomized controlled trial (RCT) design with two main groups:\n",
    "- **Mindfulness-Based Intervention (MBI) Group**: Participants will engage in structured mindfulness training sessions designed for police officers.\n",
    "- **Waitlist Control (WL) Group**: Participants will receive the mindfulness intervention after the study period.\n"
   ]
  },
  {
   "cell_type": "markdown",
   "metadata": {},
   "source": [
    "## Methods - Outcome Measures\n",
    "[Back to Table of Content](#table-of-content)\n",
    "\n",
    "- **Primary Outcome**: Mindfulness levels, measured using the FFMQ-D. The five facets of mindfulness will be analyzed at T1, adjusting for T0 baseline scores. German version available here: https://doi.org/10.1026/0943-8149/a000149.\n",
    "- **Secondary Outcomes**: Perceived stress, emotional exhaustion, overall well-being, and other relevant mental health indicators.\n",
    "\n"
   ]
  },
  {
   "cell_type": "markdown",
   "metadata": {},
   "source": [
    "## Sample Size Calculation Rationale\n",
    "[Back to Table of Content](#table-of-content)\n",
    "\n",
    "For this RCT, we aim to detect significant differences in FFMQ-D scores between the MBI and WL groups. Using an ANCOVA model will allow us to adjust for baseline scores and improve the precision of our estimates. The sample size calculation is informed by the \"Impact of Mindfulness Training on Spanish Police Officers’ Mental and Emotional Health: a Non-Randomized Pilot Study\" by Navarrete et al. (2022, PMID: 35043066), which provides key reference data:\n",
    "\n",
    "### Reference Study Data (Navarrete et al.)\n",
    "The Navarrete et al. (2022, PMID: 35043066) study used the FFMQ-SF and reported the following values:\n",
    "\n",
    "| Group             | Pre-Test FFMQ Mean (SD) | Post-Test FFMQ Mean (SD) |\n",
    "|-------------------|--------------------------|--------------------------|\n",
    "| MBI (n=20)         | 74.55 (15.40)           | 85.00 (12.10)            |\n",
    "| WL (n=18)          | 79.67 (17.97)           | 83.39 (17.95)            |\n",
    "\n",
    "The MBI group showed a substantial improvement in FFMQ scores compared to the WL group. We use these values to estimate the expected effect size and variance for our sample size calculations.\n"
   ]
  },
  {
   "cell_type": "markdown",
   "metadata": {},
   "source": [
    "## Simulation-Based Sample Size Calculation for ANCOVA\n",
    "[Back to Table of Content](#table-of-content)\n",
    "\n",
    "Given the complexity of our design and the need to adjust for baseline covariates (e.g., age, sex, T0 mindfulness levels), we employ a simulation-based power analysis. This approach involves generating hypothetical data for both groups, incorporating:\n",
    "1. Expected post-intervention FFMQ-D scores.\n",
    "2. The effect of covariates (baseline FFMQ-D scores, demographic variables).\n",
    "3. Standard deviations of FFMQ-D scores, based on Navarrete et al.'s findings.\n",
    "\n",
    "Simulations will run across various sample sizes to determine the minimum number needed to achieve 80% power for detecting significant differences between groups. We anticipate a 20% dropout rate, so the final sample size will be adjusted accordingly to ensure adequate power.\n"
   ]
  },
  {
   "cell_type": "markdown",
   "metadata": {},
   "source": [
    "# 1- Sample Size Calculation\n",
    "[Back to Table of Content](#table-of-content)"
   ]
  },
  {
   "cell_type": "code",
   "execution_count": null,
   "metadata": {
    "vscode": {
     "languageId": "r"
    }
   },
   "outputs": [],
   "source": [
    "# Load the pwr package for power analysis\n",
    "if (!requireNamespace(\"pwr\", quietly = TRUE)) install.packages(\"pwr\")\n",
    "library(pwr)"
   ]
  },
  {
   "cell_type": "code",
   "execution_count": null,
   "metadata": {
    "vscode": {
     "languageId": "r"
    }
   },
   "outputs": [],
   "source": [
    "# Reported partial eta-squared (ηp²) from the reference study\n",
    "eta_squared <- 0.15"
   ]
  },
  {
   "cell_type": "code",
   "execution_count": 23,
   "metadata": {
    "vscode": {
     "languageId": "r"
    }
   },
   "outputs": [
    {
     "name": "stdout",
     "output_type": "stream",
     "text": [
      "Cohen's f for ANCOVA: 0.420084 \n"
     ]
    }
   ],
   "source": [
    "# Convert ηp² to Cohen's f\n",
    "cohen_f <- sqrt(eta_squared / (1 - eta_squared))\n",
    "cat(\"Cohen's f for ANCOVA:\", cohen_f, \"\\n\")\n"
   ]
  },
  {
   "cell_type": "code",
   "execution_count": 24,
   "metadata": {
    "vscode": {
     "languageId": "r"
    }
   },
   "outputs": [],
   "source": [
    "# Perform power analysis using pwr.f2.test\n",
    "power_analysis <- pwr.f2.test(u = 1, f2 = cohen_f^2, power = 0.80, sig.level = 0.05)\n"
   ]
  },
  {
   "cell_type": "code",
   "execution_count": 25,
   "metadata": {
    "vscode": {
     "languageId": "r"
    }
   },
   "outputs": [
    {
     "name": "stdout",
     "output_type": "stream",
     "text": [
      "Required sample size per group (without considering attrition): 47 \n"
     ]
    }
   ],
   "source": [
    "# Output the required sample size\n",
    "required_sample_size <- ceiling(power_analysis$v + 2)  # Adding 2 to account for the two groups\n",
    "cat(\"Required sample size per group (without considering attrition):\", required_sample_size, \"\\n\")\n"
   ]
  },
  {
   "cell_type": "code",
   "execution_count": 27,
   "metadata": {
    "vscode": {
     "languageId": "r"
    }
   },
   "outputs": [
    {
     "name": "stdout",
     "output_type": "stream",
     "text": [
      "Adjusted sample size per group (with 40% attrition): 79"
     ]
    }
   ],
   "source": [
    "# The attrition rate of the reference study is 38.7% thus we use 40%\n",
    "attrition_rate <- 0.40\n",
    "adjusted_sample_size <- ceiling(required_sample_size / (1 - attrition_rate))\n",
    "cat(\"Adjusted sample size per group (with 40% attrition):\", adjusted_sample_size)"
   ]
  },
  {
   "cell_type": "markdown",
   "metadata": {},
   "source": [
    "# 2-Conclusion\n",
    "[Back to Table of Content](#table-of-content)\n",
    "\n",
    "The objective of this analysis was to estimate the minimum sample size required per group to achieve adequate statistical power for detecting differences in mindfulness levels, as measured by the **Five Facet Mindfulness Questionnaire (FFMQ-D)**, between two intervention groups in the *MindfulPolice* randomized controlled trial. Given the study’s design, which includes baseline FFMQ-D scores as a covariate, an **ANCOVA model** was chosen as the primary method for analysis.\n",
    "\n",
    "We used a power analysis based on the partial eta-squared (ηp²) effect size reported in the reference study. The target power was set at **80%**, a standard benchmark for ensuring reliable and robust results in psychological and clinical research. To accommodate the expected dropout rate of 40%, based on attrition observed in similar studies with police officers, the sample size calculation was adjusted accordingly.\n",
    "\n",
    "The analysis determined that a sample size of **47 participants per group** would be needed to achieve the target power without considering attrition. After adjusting for the anticipated 40% dropout rate, the final recommended sample size increased to **79 participants per group**. This results in a total sample size of **158 participants** for the two-group design.\n",
    "\n",
    "In conclusion, recruiting **158 participants in total (79 per group)** will provide the *MindfulPolice* study with sufficient power to detect meaningful differences in mindfulness outcomes between the intervention and control groups. This adjusted sample size accounts for potential participant dropout, ensuring the study can robustly assess the effectiveness of the mindfulness intervention designed specifically for police officers, even with substantial attrition.\n"
   ]
  }
 ],
 "metadata": {
  "kernelspec": {
   "display_name": "R",
   "language": "R",
   "name": "ir"
  },
  "language_info": {
   "codemirror_mode": "r",
   "file_extension": ".r",
   "mimetype": "text/x-r-source",
   "name": "R",
   "pygments_lexer": "r",
   "version": "4.3.2"
  }
 },
 "nbformat": 4,
 "nbformat_minor": 2
}
